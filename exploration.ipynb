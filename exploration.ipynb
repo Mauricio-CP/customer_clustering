{
 "cells": [
  {
   "cell_type": "markdown",
   "id": "f30d2101",
   "metadata": {},
   "source": [
    "# 1. Préliminaires"
   ]
  },
  {
   "cell_type": "markdown",
   "id": "c3f65f06",
   "metadata": {},
   "source": [
    "Importons les bibliothèques :"
   ]
  },
  {
   "cell_type": "code",
   "execution_count": 1,
   "id": "b3ca65f9",
   "metadata": {},
   "outputs": [],
   "source": [
    "# Data\n",
    "import numpy as np\n",
    "import pandas as pd\n",
    "\n",
    "# Visualisation\n",
    "import matplotlib.pyplot as plt\n",
    "import seaborn as sns"
   ]
  },
  {
   "cell_type": "markdown",
   "id": "85ada766",
   "metadata": {},
   "source": [
    "Chargeons les données :"
   ]
  },
  {
   "cell_type": "code",
   "execution_count": 2,
   "id": "8a28946e",
   "metadata": {},
   "outputs": [],
   "source": [
    "customers = pd.read_csv('olist_customers_dataset.csv')\n",
    "geolocation = pd.read_csv('olist_geolocation_dataset.csv')\n",
    "order_items = pd.read_csv('olist_order_items_dataset.csv')\n",
    "order_payments = pd.read_csv('olist_order_payments_dataset.csv')\n",
    "order_reviews = pd.read_csv('olist_order_reviews_dataset.csv')\n",
    "orders = pd.read_csv('olist_orders_dataset.csv')\n",
    "products = pd.read_csv('olist_products_dataset.csv')\n",
    "sellers = pd.read_csv('olist_sellers_dataset.csv')\n",
    "translation = pd.read_csv('product_category_name_translation.csv')"
   ]
  },
  {
   "cell_type": "markdown",
   "id": "aed02512",
   "metadata": {},
   "source": [
    "# 2. Présentation des tables"
   ]
  },
  {
   "cell_type": "markdown",
   "id": "febdebdf",
   "metadata": {},
   "source": [
    "## 2.1. Customers"
   ]
  },
  {
   "cell_type": "markdown",
   "id": "86aa6f40",
   "metadata": {},
   "source": [
    "Forme de la table :"
   ]
  },
  {
   "cell_type": "code",
   "execution_count": 3,
   "id": "2de06245",
   "metadata": {},
   "outputs": [
    {
     "data": {
      "text/plain": [
       "(99441, 5)"
      ]
     },
     "execution_count": 3,
     "metadata": {},
     "output_type": "execute_result"
    }
   ],
   "source": [
    "customers.shape"
   ]
  },
  {
   "cell_type": "markdown",
   "id": "94c0d3bd",
   "metadata": {},
   "source": [
    "Tête de la table (5 premières lignes) :"
   ]
  },
  {
   "cell_type": "code",
   "execution_count": 4,
   "id": "6a9f588b",
   "metadata": {},
   "outputs": [
    {
     "data": {
      "text/html": [
       "<div>\n",
       "<style scoped>\n",
       "    .dataframe tbody tr th:only-of-type {\n",
       "        vertical-align: middle;\n",
       "    }\n",
       "\n",
       "    .dataframe tbody tr th {\n",
       "        vertical-align: top;\n",
       "    }\n",
       "\n",
       "    .dataframe thead th {\n",
       "        text-align: right;\n",
       "    }\n",
       "</style>\n",
       "<table border=\"1\" class=\"dataframe\">\n",
       "  <thead>\n",
       "    <tr style=\"text-align: right;\">\n",
       "      <th></th>\n",
       "      <th>customer_id</th>\n",
       "      <th>customer_unique_id</th>\n",
       "      <th>customer_zip_code_prefix</th>\n",
       "      <th>customer_city</th>\n",
       "      <th>customer_state</th>\n",
       "    </tr>\n",
       "  </thead>\n",
       "  <tbody>\n",
       "    <tr>\n",
       "      <th>0</th>\n",
       "      <td>06b8999e2fba1a1fbc88172c00ba8bc7</td>\n",
       "      <td>861eff4711a542e4b93843c6dd7febb0</td>\n",
       "      <td>14409</td>\n",
       "      <td>franca</td>\n",
       "      <td>SP</td>\n",
       "    </tr>\n",
       "    <tr>\n",
       "      <th>1</th>\n",
       "      <td>18955e83d337fd6b2def6b18a428ac77</td>\n",
       "      <td>290c77bc529b7ac935b93aa66c333dc3</td>\n",
       "      <td>9790</td>\n",
       "      <td>sao bernardo do campo</td>\n",
       "      <td>SP</td>\n",
       "    </tr>\n",
       "    <tr>\n",
       "      <th>2</th>\n",
       "      <td>4e7b3e00288586ebd08712fdd0374a03</td>\n",
       "      <td>060e732b5b29e8181a18229c7b0b2b5e</td>\n",
       "      <td>1151</td>\n",
       "      <td>sao paulo</td>\n",
       "      <td>SP</td>\n",
       "    </tr>\n",
       "    <tr>\n",
       "      <th>3</th>\n",
       "      <td>b2b6027bc5c5109e529d4dc6358b12c3</td>\n",
       "      <td>259dac757896d24d7702b9acbbff3f3c</td>\n",
       "      <td>8775</td>\n",
       "      <td>mogi das cruzes</td>\n",
       "      <td>SP</td>\n",
       "    </tr>\n",
       "    <tr>\n",
       "      <th>4</th>\n",
       "      <td>4f2d8ab171c80ec8364f7c12e35b23ad</td>\n",
       "      <td>345ecd01c38d18a9036ed96c73b8d066</td>\n",
       "      <td>13056</td>\n",
       "      <td>campinas</td>\n",
       "      <td>SP</td>\n",
       "    </tr>\n",
       "  </tbody>\n",
       "</table>\n",
       "</div>"
      ],
      "text/plain": [
       "                        customer_id                customer_unique_id  \\\n",
       "0  06b8999e2fba1a1fbc88172c00ba8bc7  861eff4711a542e4b93843c6dd7febb0   \n",
       "1  18955e83d337fd6b2def6b18a428ac77  290c77bc529b7ac935b93aa66c333dc3   \n",
       "2  4e7b3e00288586ebd08712fdd0374a03  060e732b5b29e8181a18229c7b0b2b5e   \n",
       "3  b2b6027bc5c5109e529d4dc6358b12c3  259dac757896d24d7702b9acbbff3f3c   \n",
       "4  4f2d8ab171c80ec8364f7c12e35b23ad  345ecd01c38d18a9036ed96c73b8d066   \n",
       "\n",
       "   customer_zip_code_prefix          customer_city customer_state  \n",
       "0                     14409                 franca             SP  \n",
       "1                      9790  sao bernardo do campo             SP  \n",
       "2                      1151              sao paulo             SP  \n",
       "3                      8775        mogi das cruzes             SP  \n",
       "4                     13056               campinas             SP  "
      ]
     },
     "execution_count": 4,
     "metadata": {},
     "output_type": "execute_result"
    }
   ],
   "source": [
    "customers.head()"
   ]
  },
  {
   "cell_type": "markdown",
   "id": "cb983f7d",
   "metadata": {},
   "source": [
    "Proportions de valeurs manquantes par variable :"
   ]
  },
  {
   "cell_type": "code",
   "execution_count": 5,
   "id": "1609167b",
   "metadata": {},
   "outputs": [
    {
     "data": {
      "text/plain": [
       "customer_id                 0.0\n",
       "customer_unique_id          0.0\n",
       "customer_zip_code_prefix    0.0\n",
       "customer_city               0.0\n",
       "customer_state              0.0\n",
       "dtype: float64"
      ]
     },
     "execution_count": 5,
     "metadata": {},
     "output_type": "execute_result"
    }
   ],
   "source": [
    "customers.isna().mean().round(2)"
   ]
  },
  {
   "cell_type": "markdown",
   "id": "f941900b",
   "metadata": {},
   "source": [
    "Proportion de doublons :"
   ]
  },
  {
   "cell_type": "code",
   "execution_count": 6,
   "id": "6105484f",
   "metadata": {},
   "outputs": [
    {
     "data": {
      "text/plain": [
       "0.0"
      ]
     },
     "execution_count": 6,
     "metadata": {},
     "output_type": "execute_result"
    }
   ],
   "source": [
    "customers.duplicated().mean().round(2)"
   ]
  },
  {
   "cell_type": "markdown",
   "id": "79b1306c",
   "metadata": {},
   "source": [
    "Types des variables :"
   ]
  },
  {
   "cell_type": "code",
   "execution_count": 7,
   "id": "4e43ff04",
   "metadata": {},
   "outputs": [
    {
     "data": {
      "text/plain": [
       "customer_id                 object\n",
       "customer_unique_id          object\n",
       "customer_zip_code_prefix     int64\n",
       "customer_city               object\n",
       "customer_state              object\n",
       "dtype: object"
      ]
     },
     "execution_count": 7,
     "metadata": {},
     "output_type": "execute_result"
    }
   ],
   "source": [
    "customers.dtypes"
   ]
  },
  {
   "cell_type": "markdown",
   "id": "495bdc4a",
   "metadata": {},
   "source": [
    "## 2.2. Geolocation"
   ]
  },
  {
   "cell_type": "markdown",
   "id": "3935d013",
   "metadata": {},
   "source": [
    "Forme de la table :"
   ]
  },
  {
   "cell_type": "code",
   "execution_count": 8,
   "id": "26d9c8cb",
   "metadata": {},
   "outputs": [
    {
     "data": {
      "text/plain": [
       "(1000163, 5)"
      ]
     },
     "execution_count": 8,
     "metadata": {},
     "output_type": "execute_result"
    }
   ],
   "source": [
    "geolocation.shape"
   ]
  },
  {
   "cell_type": "markdown",
   "id": "dbcf8efe",
   "metadata": {},
   "source": [
    "Tête de la table (5 premières lignes) :"
   ]
  },
  {
   "cell_type": "code",
   "execution_count": 9,
   "id": "15458d98",
   "metadata": {},
   "outputs": [
    {
     "data": {
      "text/html": [
       "<div>\n",
       "<style scoped>\n",
       "    .dataframe tbody tr th:only-of-type {\n",
       "        vertical-align: middle;\n",
       "    }\n",
       "\n",
       "    .dataframe tbody tr th {\n",
       "        vertical-align: top;\n",
       "    }\n",
       "\n",
       "    .dataframe thead th {\n",
       "        text-align: right;\n",
       "    }\n",
       "</style>\n",
       "<table border=\"1\" class=\"dataframe\">\n",
       "  <thead>\n",
       "    <tr style=\"text-align: right;\">\n",
       "      <th></th>\n",
       "      <th>geolocation_zip_code_prefix</th>\n",
       "      <th>geolocation_lat</th>\n",
       "      <th>geolocation_lng</th>\n",
       "      <th>geolocation_city</th>\n",
       "      <th>geolocation_state</th>\n",
       "    </tr>\n",
       "  </thead>\n",
       "  <tbody>\n",
       "    <tr>\n",
       "      <th>0</th>\n",
       "      <td>1037</td>\n",
       "      <td>-23.545621</td>\n",
       "      <td>-46.639292</td>\n",
       "      <td>sao paulo</td>\n",
       "      <td>SP</td>\n",
       "    </tr>\n",
       "    <tr>\n",
       "      <th>1</th>\n",
       "      <td>1046</td>\n",
       "      <td>-23.546081</td>\n",
       "      <td>-46.644820</td>\n",
       "      <td>sao paulo</td>\n",
       "      <td>SP</td>\n",
       "    </tr>\n",
       "    <tr>\n",
       "      <th>2</th>\n",
       "      <td>1046</td>\n",
       "      <td>-23.546129</td>\n",
       "      <td>-46.642951</td>\n",
       "      <td>sao paulo</td>\n",
       "      <td>SP</td>\n",
       "    </tr>\n",
       "    <tr>\n",
       "      <th>3</th>\n",
       "      <td>1041</td>\n",
       "      <td>-23.544392</td>\n",
       "      <td>-46.639499</td>\n",
       "      <td>sao paulo</td>\n",
       "      <td>SP</td>\n",
       "    </tr>\n",
       "    <tr>\n",
       "      <th>4</th>\n",
       "      <td>1035</td>\n",
       "      <td>-23.541578</td>\n",
       "      <td>-46.641607</td>\n",
       "      <td>sao paulo</td>\n",
       "      <td>SP</td>\n",
       "    </tr>\n",
       "  </tbody>\n",
       "</table>\n",
       "</div>"
      ],
      "text/plain": [
       "   geolocation_zip_code_prefix  geolocation_lat  geolocation_lng  \\\n",
       "0                         1037       -23.545621       -46.639292   \n",
       "1                         1046       -23.546081       -46.644820   \n",
       "2                         1046       -23.546129       -46.642951   \n",
       "3                         1041       -23.544392       -46.639499   \n",
       "4                         1035       -23.541578       -46.641607   \n",
       "\n",
       "  geolocation_city geolocation_state  \n",
       "0        sao paulo                SP  \n",
       "1        sao paulo                SP  \n",
       "2        sao paulo                SP  \n",
       "3        sao paulo                SP  \n",
       "4        sao paulo                SP  "
      ]
     },
     "execution_count": 9,
     "metadata": {},
     "output_type": "execute_result"
    }
   ],
   "source": [
    "geolocation.head()"
   ]
  },
  {
   "cell_type": "markdown",
   "id": "3b84e466",
   "metadata": {},
   "source": [
    "Proportions de valeurs manquantes par variable :"
   ]
  },
  {
   "cell_type": "code",
   "execution_count": 10,
   "id": "4269f0b5",
   "metadata": {},
   "outputs": [
    {
     "data": {
      "text/plain": [
       "geolocation_zip_code_prefix    0.0\n",
       "geolocation_lat                0.0\n",
       "geolocation_lng                0.0\n",
       "geolocation_city               0.0\n",
       "geolocation_state              0.0\n",
       "dtype: float64"
      ]
     },
     "execution_count": 10,
     "metadata": {},
     "output_type": "execute_result"
    }
   ],
   "source": [
    "geolocation.isna().mean().round(2)"
   ]
  },
  {
   "cell_type": "markdown",
   "id": "cb3be589",
   "metadata": {},
   "source": [
    "Proportion de doublons :"
   ]
  },
  {
   "cell_type": "code",
   "execution_count": 11,
   "id": "46338a28",
   "metadata": {},
   "outputs": [
    {
     "data": {
      "text/plain": [
       "0.26"
      ]
     },
     "execution_count": 11,
     "metadata": {},
     "output_type": "execute_result"
    }
   ],
   "source": [
    "geolocation.duplicated().mean().round(2)"
   ]
  },
  {
   "cell_type": "markdown",
   "id": "c8230a58",
   "metadata": {},
   "source": [
    "Types des variables :"
   ]
  },
  {
   "cell_type": "code",
   "execution_count": 12,
   "id": "4823421c",
   "metadata": {},
   "outputs": [
    {
     "data": {
      "text/plain": [
       "geolocation_zip_code_prefix      int64\n",
       "geolocation_lat                float64\n",
       "geolocation_lng                float64\n",
       "geolocation_city                object\n",
       "geolocation_state               object\n",
       "dtype: object"
      ]
     },
     "execution_count": 12,
     "metadata": {},
     "output_type": "execute_result"
    }
   ],
   "source": [
    "geolocation.dtypes"
   ]
  },
  {
   "cell_type": "markdown",
   "id": "60cb24dc",
   "metadata": {},
   "source": [
    "## 2.3. Order items"
   ]
  },
  {
   "cell_type": "markdown",
   "id": "0895d9a6",
   "metadata": {},
   "source": [
    "Forme de la table :"
   ]
  },
  {
   "cell_type": "code",
   "execution_count": 13,
   "id": "5c79cf06",
   "metadata": {},
   "outputs": [
    {
     "data": {
      "text/plain": [
       "(112650, 7)"
      ]
     },
     "execution_count": 13,
     "metadata": {},
     "output_type": "execute_result"
    }
   ],
   "source": [
    "order_items.shape"
   ]
  },
  {
   "cell_type": "markdown",
   "id": "a8afbb9d",
   "metadata": {},
   "source": [
    "Tête de la table (5 premières lignes) :"
   ]
  },
  {
   "cell_type": "code",
   "execution_count": 14,
   "id": "1a03e9f7",
   "metadata": {},
   "outputs": [
    {
     "data": {
      "text/html": [
       "<div>\n",
       "<style scoped>\n",
       "    .dataframe tbody tr th:only-of-type {\n",
       "        vertical-align: middle;\n",
       "    }\n",
       "\n",
       "    .dataframe tbody tr th {\n",
       "        vertical-align: top;\n",
       "    }\n",
       "\n",
       "    .dataframe thead th {\n",
       "        text-align: right;\n",
       "    }\n",
       "</style>\n",
       "<table border=\"1\" class=\"dataframe\">\n",
       "  <thead>\n",
       "    <tr style=\"text-align: right;\">\n",
       "      <th></th>\n",
       "      <th>order_id</th>\n",
       "      <th>order_item_id</th>\n",
       "      <th>product_id</th>\n",
       "      <th>seller_id</th>\n",
       "      <th>shipping_limit_date</th>\n",
       "      <th>price</th>\n",
       "      <th>freight_value</th>\n",
       "    </tr>\n",
       "  </thead>\n",
       "  <tbody>\n",
       "    <tr>\n",
       "      <th>0</th>\n",
       "      <td>00010242fe8c5a6d1ba2dd792cb16214</td>\n",
       "      <td>1</td>\n",
       "      <td>4244733e06e7ecb4970a6e2683c13e61</td>\n",
       "      <td>48436dade18ac8b2bce089ec2a041202</td>\n",
       "      <td>2017-09-19 09:45:35</td>\n",
       "      <td>58.90</td>\n",
       "      <td>13.29</td>\n",
       "    </tr>\n",
       "    <tr>\n",
       "      <th>1</th>\n",
       "      <td>00018f77f2f0320c557190d7a144bdd3</td>\n",
       "      <td>1</td>\n",
       "      <td>e5f2d52b802189ee658865ca93d83a8f</td>\n",
       "      <td>dd7ddc04e1b6c2c614352b383efe2d36</td>\n",
       "      <td>2017-05-03 11:05:13</td>\n",
       "      <td>239.90</td>\n",
       "      <td>19.93</td>\n",
       "    </tr>\n",
       "    <tr>\n",
       "      <th>2</th>\n",
       "      <td>000229ec398224ef6ca0657da4fc703e</td>\n",
       "      <td>1</td>\n",
       "      <td>c777355d18b72b67abbeef9df44fd0fd</td>\n",
       "      <td>5b51032eddd242adc84c38acab88f23d</td>\n",
       "      <td>2018-01-18 14:48:30</td>\n",
       "      <td>199.00</td>\n",
       "      <td>17.87</td>\n",
       "    </tr>\n",
       "    <tr>\n",
       "      <th>3</th>\n",
       "      <td>00024acbcdf0a6daa1e931b038114c75</td>\n",
       "      <td>1</td>\n",
       "      <td>7634da152a4610f1595efa32f14722fc</td>\n",
       "      <td>9d7a1d34a5052409006425275ba1c2b4</td>\n",
       "      <td>2018-08-15 10:10:18</td>\n",
       "      <td>12.99</td>\n",
       "      <td>12.79</td>\n",
       "    </tr>\n",
       "    <tr>\n",
       "      <th>4</th>\n",
       "      <td>00042b26cf59d7ce69dfabb4e55b4fd9</td>\n",
       "      <td>1</td>\n",
       "      <td>ac6c3623068f30de03045865e4e10089</td>\n",
       "      <td>df560393f3a51e74553ab94004ba5c87</td>\n",
       "      <td>2017-02-13 13:57:51</td>\n",
       "      <td>199.90</td>\n",
       "      <td>18.14</td>\n",
       "    </tr>\n",
       "  </tbody>\n",
       "</table>\n",
       "</div>"
      ],
      "text/plain": [
       "                           order_id  order_item_id  \\\n",
       "0  00010242fe8c5a6d1ba2dd792cb16214              1   \n",
       "1  00018f77f2f0320c557190d7a144bdd3              1   \n",
       "2  000229ec398224ef6ca0657da4fc703e              1   \n",
       "3  00024acbcdf0a6daa1e931b038114c75              1   \n",
       "4  00042b26cf59d7ce69dfabb4e55b4fd9              1   \n",
       "\n",
       "                         product_id                         seller_id  \\\n",
       "0  4244733e06e7ecb4970a6e2683c13e61  48436dade18ac8b2bce089ec2a041202   \n",
       "1  e5f2d52b802189ee658865ca93d83a8f  dd7ddc04e1b6c2c614352b383efe2d36   \n",
       "2  c777355d18b72b67abbeef9df44fd0fd  5b51032eddd242adc84c38acab88f23d   \n",
       "3  7634da152a4610f1595efa32f14722fc  9d7a1d34a5052409006425275ba1c2b4   \n",
       "4  ac6c3623068f30de03045865e4e10089  df560393f3a51e74553ab94004ba5c87   \n",
       "\n",
       "   shipping_limit_date   price  freight_value  \n",
       "0  2017-09-19 09:45:35   58.90          13.29  \n",
       "1  2017-05-03 11:05:13  239.90          19.93  \n",
       "2  2018-01-18 14:48:30  199.00          17.87  \n",
       "3  2018-08-15 10:10:18   12.99          12.79  \n",
       "4  2017-02-13 13:57:51  199.90          18.14  "
      ]
     },
     "execution_count": 14,
     "metadata": {},
     "output_type": "execute_result"
    }
   ],
   "source": [
    "order_items.head()"
   ]
  },
  {
   "cell_type": "markdown",
   "id": "46da739f",
   "metadata": {},
   "source": [
    "Proportions de valeurs manquantes par variable :"
   ]
  },
  {
   "cell_type": "code",
   "execution_count": 15,
   "id": "96a1ca64",
   "metadata": {},
   "outputs": [
    {
     "data": {
      "text/plain": [
       "order_id               0.0\n",
       "order_item_id          0.0\n",
       "product_id             0.0\n",
       "seller_id              0.0\n",
       "shipping_limit_date    0.0\n",
       "price                  0.0\n",
       "freight_value          0.0\n",
       "dtype: float64"
      ]
     },
     "execution_count": 15,
     "metadata": {},
     "output_type": "execute_result"
    }
   ],
   "source": [
    "order_items.isna().mean().round(2)"
   ]
  },
  {
   "cell_type": "markdown",
   "id": "e77febd3",
   "metadata": {},
   "source": [
    "Proportion de doublons :"
   ]
  },
  {
   "cell_type": "code",
   "execution_count": 16,
   "id": "bc55d7fb",
   "metadata": {},
   "outputs": [
    {
     "data": {
      "text/plain": [
       "0.0"
      ]
     },
     "execution_count": 16,
     "metadata": {},
     "output_type": "execute_result"
    }
   ],
   "source": [
    "order_items.duplicated().mean().round(2)"
   ]
  },
  {
   "cell_type": "markdown",
   "id": "4d67c486",
   "metadata": {},
   "source": [
    "Types des variables :"
   ]
  },
  {
   "cell_type": "code",
   "execution_count": 17,
   "id": "18a60fc3",
   "metadata": {},
   "outputs": [
    {
     "data": {
      "text/plain": [
       "order_id                object\n",
       "order_item_id            int64\n",
       "product_id              object\n",
       "seller_id               object\n",
       "shipping_limit_date     object\n",
       "price                  float64\n",
       "freight_value          float64\n",
       "dtype: object"
      ]
     },
     "execution_count": 17,
     "metadata": {},
     "output_type": "execute_result"
    }
   ],
   "source": [
    "order_items.dtypes"
   ]
  },
  {
   "cell_type": "markdown",
   "id": "1f614b6a",
   "metadata": {},
   "source": [
    "Conversion au format date et heure de la variable \"shipping_limit_date\" :"
   ]
  },
  {
   "cell_type": "code",
   "execution_count": 18,
   "id": "74fd8cd3",
   "metadata": {},
   "outputs": [],
   "source": [
    "order_items['shipping_limit_date'] = pd.to_datetime(\n",
    "    order_items['shipping_limit_date'], format='%Y-%m-%d %H:%M:%S')"
   ]
  },
  {
   "cell_type": "markdown",
   "id": "d80f0c16",
   "metadata": {},
   "source": [
    "## 2.4. Order payments"
   ]
  },
  {
   "cell_type": "markdown",
   "id": "86ca6de9",
   "metadata": {},
   "source": [
    "Forme de la table :"
   ]
  },
  {
   "cell_type": "code",
   "execution_count": 19,
   "id": "229d8630",
   "metadata": {},
   "outputs": [
    {
     "data": {
      "text/plain": [
       "(103886, 5)"
      ]
     },
     "execution_count": 19,
     "metadata": {},
     "output_type": "execute_result"
    }
   ],
   "source": [
    "order_payments.shape"
   ]
  },
  {
   "cell_type": "markdown",
   "id": "7132dc67",
   "metadata": {},
   "source": [
    "Tête de la table (5 premières lignes) :"
   ]
  },
  {
   "cell_type": "code",
   "execution_count": 20,
   "id": "0dcc79f5",
   "metadata": {},
   "outputs": [
    {
     "data": {
      "text/html": [
       "<div>\n",
       "<style scoped>\n",
       "    .dataframe tbody tr th:only-of-type {\n",
       "        vertical-align: middle;\n",
       "    }\n",
       "\n",
       "    .dataframe tbody tr th {\n",
       "        vertical-align: top;\n",
       "    }\n",
       "\n",
       "    .dataframe thead th {\n",
       "        text-align: right;\n",
       "    }\n",
       "</style>\n",
       "<table border=\"1\" class=\"dataframe\">\n",
       "  <thead>\n",
       "    <tr style=\"text-align: right;\">\n",
       "      <th></th>\n",
       "      <th>order_id</th>\n",
       "      <th>payment_sequential</th>\n",
       "      <th>payment_type</th>\n",
       "      <th>payment_installments</th>\n",
       "      <th>payment_value</th>\n",
       "    </tr>\n",
       "  </thead>\n",
       "  <tbody>\n",
       "    <tr>\n",
       "      <th>0</th>\n",
       "      <td>b81ef226f3fe1789b1e8b2acac839d17</td>\n",
       "      <td>1</td>\n",
       "      <td>credit_card</td>\n",
       "      <td>8</td>\n",
       "      <td>99.33</td>\n",
       "    </tr>\n",
       "    <tr>\n",
       "      <th>1</th>\n",
       "      <td>a9810da82917af2d9aefd1278f1dcfa0</td>\n",
       "      <td>1</td>\n",
       "      <td>credit_card</td>\n",
       "      <td>1</td>\n",
       "      <td>24.39</td>\n",
       "    </tr>\n",
       "    <tr>\n",
       "      <th>2</th>\n",
       "      <td>25e8ea4e93396b6fa0d3dd708e76c1bd</td>\n",
       "      <td>1</td>\n",
       "      <td>credit_card</td>\n",
       "      <td>1</td>\n",
       "      <td>65.71</td>\n",
       "    </tr>\n",
       "    <tr>\n",
       "      <th>3</th>\n",
       "      <td>ba78997921bbcdc1373bb41e913ab953</td>\n",
       "      <td>1</td>\n",
       "      <td>credit_card</td>\n",
       "      <td>8</td>\n",
       "      <td>107.78</td>\n",
       "    </tr>\n",
       "    <tr>\n",
       "      <th>4</th>\n",
       "      <td>42fdf880ba16b47b59251dd489d4441a</td>\n",
       "      <td>1</td>\n",
       "      <td>credit_card</td>\n",
       "      <td>2</td>\n",
       "      <td>128.45</td>\n",
       "    </tr>\n",
       "  </tbody>\n",
       "</table>\n",
       "</div>"
      ],
      "text/plain": [
       "                           order_id  payment_sequential payment_type  \\\n",
       "0  b81ef226f3fe1789b1e8b2acac839d17                   1  credit_card   \n",
       "1  a9810da82917af2d9aefd1278f1dcfa0                   1  credit_card   \n",
       "2  25e8ea4e93396b6fa0d3dd708e76c1bd                   1  credit_card   \n",
       "3  ba78997921bbcdc1373bb41e913ab953                   1  credit_card   \n",
       "4  42fdf880ba16b47b59251dd489d4441a                   1  credit_card   \n",
       "\n",
       "   payment_installments  payment_value  \n",
       "0                     8          99.33  \n",
       "1                     1          24.39  \n",
       "2                     1          65.71  \n",
       "3                     8         107.78  \n",
       "4                     2         128.45  "
      ]
     },
     "execution_count": 20,
     "metadata": {},
     "output_type": "execute_result"
    }
   ],
   "source": [
    "order_payments.head()"
   ]
  },
  {
   "cell_type": "markdown",
   "id": "b53f7a98",
   "metadata": {},
   "source": [
    "Proportions de valeurs manquantes par variable :"
   ]
  },
  {
   "cell_type": "code",
   "execution_count": 21,
   "id": "fe2037c3",
   "metadata": {},
   "outputs": [
    {
     "data": {
      "text/plain": [
       "order_id                0.0\n",
       "payment_sequential      0.0\n",
       "payment_type            0.0\n",
       "payment_installments    0.0\n",
       "payment_value           0.0\n",
       "dtype: float64"
      ]
     },
     "execution_count": 21,
     "metadata": {},
     "output_type": "execute_result"
    }
   ],
   "source": [
    "order_payments.isna().mean().round(2)"
   ]
  },
  {
   "cell_type": "markdown",
   "id": "e7e5e102",
   "metadata": {},
   "source": [
    "Proportion de doublons :"
   ]
  },
  {
   "cell_type": "code",
   "execution_count": 22,
   "id": "b12ec019",
   "metadata": {},
   "outputs": [
    {
     "data": {
      "text/plain": [
       "0.0"
      ]
     },
     "execution_count": 22,
     "metadata": {},
     "output_type": "execute_result"
    }
   ],
   "source": [
    "order_payments.duplicated().mean().round(2)"
   ]
  },
  {
   "cell_type": "markdown",
   "id": "e0006bb2",
   "metadata": {},
   "source": [
    "Types des variables :"
   ]
  },
  {
   "cell_type": "code",
   "execution_count": 23,
   "id": "700714b4",
   "metadata": {},
   "outputs": [
    {
     "data": {
      "text/plain": [
       "order_id                 object\n",
       "payment_sequential        int64\n",
       "payment_type             object\n",
       "payment_installments      int64\n",
       "payment_value           float64\n",
       "dtype: object"
      ]
     },
     "execution_count": 23,
     "metadata": {},
     "output_type": "execute_result"
    }
   ],
   "source": [
    "order_payments.dtypes"
   ]
  },
  {
   "cell_type": "markdown",
   "id": "d55909ef",
   "metadata": {},
   "source": [
    "## 2.5. Order reviews"
   ]
  },
  {
   "cell_type": "markdown",
   "id": "035f3dd1",
   "metadata": {},
   "source": [
    "Forme de la table :"
   ]
  },
  {
   "cell_type": "code",
   "execution_count": 24,
   "id": "9a95338f",
   "metadata": {},
   "outputs": [
    {
     "data": {
      "text/plain": [
       "(99224, 7)"
      ]
     },
     "execution_count": 24,
     "metadata": {},
     "output_type": "execute_result"
    }
   ],
   "source": [
    "order_reviews.shape"
   ]
  },
  {
   "cell_type": "markdown",
   "id": "c487f7c2",
   "metadata": {},
   "source": [
    "Tête de la table (5 premières lignes) :"
   ]
  },
  {
   "cell_type": "code",
   "execution_count": 25,
   "id": "0b4856bc",
   "metadata": {},
   "outputs": [
    {
     "data": {
      "text/html": [
       "<div>\n",
       "<style scoped>\n",
       "    .dataframe tbody tr th:only-of-type {\n",
       "        vertical-align: middle;\n",
       "    }\n",
       "\n",
       "    .dataframe tbody tr th {\n",
       "        vertical-align: top;\n",
       "    }\n",
       "\n",
       "    .dataframe thead th {\n",
       "        text-align: right;\n",
       "    }\n",
       "</style>\n",
       "<table border=\"1\" class=\"dataframe\">\n",
       "  <thead>\n",
       "    <tr style=\"text-align: right;\">\n",
       "      <th></th>\n",
       "      <th>review_id</th>\n",
       "      <th>order_id</th>\n",
       "      <th>review_score</th>\n",
       "      <th>review_comment_title</th>\n",
       "      <th>review_comment_message</th>\n",
       "      <th>review_creation_date</th>\n",
       "      <th>review_answer_timestamp</th>\n",
       "    </tr>\n",
       "  </thead>\n",
       "  <tbody>\n",
       "    <tr>\n",
       "      <th>0</th>\n",
       "      <td>7bc2406110b926393aa56f80a40eba40</td>\n",
       "      <td>73fc7af87114b39712e6da79b0a377eb</td>\n",
       "      <td>4</td>\n",
       "      <td>NaN</td>\n",
       "      <td>NaN</td>\n",
       "      <td>2018-01-18 00:00:00</td>\n",
       "      <td>2018-01-18 21:46:59</td>\n",
       "    </tr>\n",
       "    <tr>\n",
       "      <th>1</th>\n",
       "      <td>80e641a11e56f04c1ad469d5645fdfde</td>\n",
       "      <td>a548910a1c6147796b98fdf73dbeba33</td>\n",
       "      <td>5</td>\n",
       "      <td>NaN</td>\n",
       "      <td>NaN</td>\n",
       "      <td>2018-03-10 00:00:00</td>\n",
       "      <td>2018-03-11 03:05:13</td>\n",
       "    </tr>\n",
       "    <tr>\n",
       "      <th>2</th>\n",
       "      <td>228ce5500dc1d8e020d8d1322874b6f0</td>\n",
       "      <td>f9e4b658b201a9f2ecdecbb34bed034b</td>\n",
       "      <td>5</td>\n",
       "      <td>NaN</td>\n",
       "      <td>NaN</td>\n",
       "      <td>2018-02-17 00:00:00</td>\n",
       "      <td>2018-02-18 14:36:24</td>\n",
       "    </tr>\n",
       "    <tr>\n",
       "      <th>3</th>\n",
       "      <td>e64fb393e7b32834bb789ff8bb30750e</td>\n",
       "      <td>658677c97b385a9be170737859d3511b</td>\n",
       "      <td>5</td>\n",
       "      <td>NaN</td>\n",
       "      <td>Recebi bem antes do prazo estipulado.</td>\n",
       "      <td>2017-04-21 00:00:00</td>\n",
       "      <td>2017-04-21 22:02:06</td>\n",
       "    </tr>\n",
       "    <tr>\n",
       "      <th>4</th>\n",
       "      <td>f7c4243c7fe1938f181bec41a392bdeb</td>\n",
       "      <td>8e6bfb81e283fa7e4f11123a3fb894f1</td>\n",
       "      <td>5</td>\n",
       "      <td>NaN</td>\n",
       "      <td>Parabéns lojas lannister adorei comprar pela I...</td>\n",
       "      <td>2018-03-01 00:00:00</td>\n",
       "      <td>2018-03-02 10:26:53</td>\n",
       "    </tr>\n",
       "  </tbody>\n",
       "</table>\n",
       "</div>"
      ],
      "text/plain": [
       "                          review_id                          order_id  \\\n",
       "0  7bc2406110b926393aa56f80a40eba40  73fc7af87114b39712e6da79b0a377eb   \n",
       "1  80e641a11e56f04c1ad469d5645fdfde  a548910a1c6147796b98fdf73dbeba33   \n",
       "2  228ce5500dc1d8e020d8d1322874b6f0  f9e4b658b201a9f2ecdecbb34bed034b   \n",
       "3  e64fb393e7b32834bb789ff8bb30750e  658677c97b385a9be170737859d3511b   \n",
       "4  f7c4243c7fe1938f181bec41a392bdeb  8e6bfb81e283fa7e4f11123a3fb894f1   \n",
       "\n",
       "   review_score review_comment_title  \\\n",
       "0             4                  NaN   \n",
       "1             5                  NaN   \n",
       "2             5                  NaN   \n",
       "3             5                  NaN   \n",
       "4             5                  NaN   \n",
       "\n",
       "                              review_comment_message review_creation_date  \\\n",
       "0                                                NaN  2018-01-18 00:00:00   \n",
       "1                                                NaN  2018-03-10 00:00:00   \n",
       "2                                                NaN  2018-02-17 00:00:00   \n",
       "3              Recebi bem antes do prazo estipulado.  2017-04-21 00:00:00   \n",
       "4  Parabéns lojas lannister adorei comprar pela I...  2018-03-01 00:00:00   \n",
       "\n",
       "  review_answer_timestamp  \n",
       "0     2018-01-18 21:46:59  \n",
       "1     2018-03-11 03:05:13  \n",
       "2     2018-02-18 14:36:24  \n",
       "3     2017-04-21 22:02:06  \n",
       "4     2018-03-02 10:26:53  "
      ]
     },
     "execution_count": 25,
     "metadata": {},
     "output_type": "execute_result"
    }
   ],
   "source": [
    "order_reviews.head()"
   ]
  },
  {
   "cell_type": "markdown",
   "id": "d20620a8",
   "metadata": {},
   "source": [
    "Proportions de valeurs manquantes par variable :"
   ]
  },
  {
   "cell_type": "code",
   "execution_count": 26,
   "id": "a189ebd0",
   "metadata": {},
   "outputs": [
    {
     "data": {
      "text/plain": [
       "review_id                  0.00\n",
       "order_id                   0.00\n",
       "review_score               0.00\n",
       "review_comment_title       0.88\n",
       "review_comment_message     0.59\n",
       "review_creation_date       0.00\n",
       "review_answer_timestamp    0.00\n",
       "dtype: float64"
      ]
     },
     "execution_count": 26,
     "metadata": {},
     "output_type": "execute_result"
    }
   ],
   "source": [
    "order_reviews.isna().mean().round(2)"
   ]
  },
  {
   "cell_type": "markdown",
   "id": "a969b4f4",
   "metadata": {},
   "source": [
    "Proportion de doublons :"
   ]
  },
  {
   "cell_type": "code",
   "execution_count": 27,
   "id": "f3fcc27a",
   "metadata": {},
   "outputs": [
    {
     "data": {
      "text/plain": [
       "0.0"
      ]
     },
     "execution_count": 27,
     "metadata": {},
     "output_type": "execute_result"
    }
   ],
   "source": [
    "order_reviews.duplicated().mean().round(2)"
   ]
  },
  {
   "cell_type": "markdown",
   "id": "2fce9dfd",
   "metadata": {},
   "source": [
    "Types des variables :"
   ]
  },
  {
   "cell_type": "code",
   "execution_count": 28,
   "id": "2f1e2c0f",
   "metadata": {},
   "outputs": [
    {
     "data": {
      "text/plain": [
       "review_id                  object\n",
       "order_id                   object\n",
       "review_score                int64\n",
       "review_comment_title       object\n",
       "review_comment_message     object\n",
       "review_creation_date       object\n",
       "review_answer_timestamp    object\n",
       "dtype: object"
      ]
     },
     "execution_count": 28,
     "metadata": {},
     "output_type": "execute_result"
    }
   ],
   "source": [
    "order_reviews.dtypes"
   ]
  },
  {
   "cell_type": "markdown",
   "id": "c52c6660",
   "metadata": {},
   "source": [
    "Conversion au format date et heure des variables :\n",
    "- review_creation_date\n",
    "- review_answer_timestamp"
   ]
  },
  {
   "cell_type": "code",
   "execution_count": 29,
   "id": "e66e24ac",
   "metadata": {},
   "outputs": [],
   "source": [
    "dates = ['review_creation_date', 'review_answer_timestamp']\n",
    "\n",
    "order_reviews[dates] = order_reviews[dates].apply(\n",
    "    pd.to_datetime, format='%Y-%m-%d %H:%M:%S')"
   ]
  },
  {
   "cell_type": "markdown",
   "id": "1fe58426",
   "metadata": {},
   "source": [
    "## 2.6. Orders"
   ]
  },
  {
   "cell_type": "markdown",
   "id": "8a57099b",
   "metadata": {},
   "source": [
    "Forme de la table :"
   ]
  },
  {
   "cell_type": "code",
   "execution_count": 30,
   "id": "c8172bf1",
   "metadata": {},
   "outputs": [
    {
     "data": {
      "text/plain": [
       "(99441, 8)"
      ]
     },
     "execution_count": 30,
     "metadata": {},
     "output_type": "execute_result"
    }
   ],
   "source": [
    "orders.shape"
   ]
  },
  {
   "cell_type": "markdown",
   "id": "0e0871b5",
   "metadata": {},
   "source": [
    "Tête de la table (5 premières lignes) :"
   ]
  },
  {
   "cell_type": "code",
   "execution_count": 31,
   "id": "e971aeb7",
   "metadata": {},
   "outputs": [
    {
     "data": {
      "text/html": [
       "<div>\n",
       "<style scoped>\n",
       "    .dataframe tbody tr th:only-of-type {\n",
       "        vertical-align: middle;\n",
       "    }\n",
       "\n",
       "    .dataframe tbody tr th {\n",
       "        vertical-align: top;\n",
       "    }\n",
       "\n",
       "    .dataframe thead th {\n",
       "        text-align: right;\n",
       "    }\n",
       "</style>\n",
       "<table border=\"1\" class=\"dataframe\">\n",
       "  <thead>\n",
       "    <tr style=\"text-align: right;\">\n",
       "      <th></th>\n",
       "      <th>order_id</th>\n",
       "      <th>customer_id</th>\n",
       "      <th>order_status</th>\n",
       "      <th>order_purchase_timestamp</th>\n",
       "      <th>order_approved_at</th>\n",
       "      <th>order_delivered_carrier_date</th>\n",
       "      <th>order_delivered_customer_date</th>\n",
       "      <th>order_estimated_delivery_date</th>\n",
       "    </tr>\n",
       "  </thead>\n",
       "  <tbody>\n",
       "    <tr>\n",
       "      <th>0</th>\n",
       "      <td>e481f51cbdc54678b7cc49136f2d6af7</td>\n",
       "      <td>9ef432eb6251297304e76186b10a928d</td>\n",
       "      <td>delivered</td>\n",
       "      <td>2017-10-02 10:56:33</td>\n",
       "      <td>2017-10-02 11:07:15</td>\n",
       "      <td>2017-10-04 19:55:00</td>\n",
       "      <td>2017-10-10 21:25:13</td>\n",
       "      <td>2017-10-18 00:00:00</td>\n",
       "    </tr>\n",
       "    <tr>\n",
       "      <th>1</th>\n",
       "      <td>53cdb2fc8bc7dce0b6741e2150273451</td>\n",
       "      <td>b0830fb4747a6c6d20dea0b8c802d7ef</td>\n",
       "      <td>delivered</td>\n",
       "      <td>2018-07-24 20:41:37</td>\n",
       "      <td>2018-07-26 03:24:27</td>\n",
       "      <td>2018-07-26 14:31:00</td>\n",
       "      <td>2018-08-07 15:27:45</td>\n",
       "      <td>2018-08-13 00:00:00</td>\n",
       "    </tr>\n",
       "    <tr>\n",
       "      <th>2</th>\n",
       "      <td>47770eb9100c2d0c44946d9cf07ec65d</td>\n",
       "      <td>41ce2a54c0b03bf3443c3d931a367089</td>\n",
       "      <td>delivered</td>\n",
       "      <td>2018-08-08 08:38:49</td>\n",
       "      <td>2018-08-08 08:55:23</td>\n",
       "      <td>2018-08-08 13:50:00</td>\n",
       "      <td>2018-08-17 18:06:29</td>\n",
       "      <td>2018-09-04 00:00:00</td>\n",
       "    </tr>\n",
       "    <tr>\n",
       "      <th>3</th>\n",
       "      <td>949d5b44dbf5de918fe9c16f97b45f8a</td>\n",
       "      <td>f88197465ea7920adcdbec7375364d82</td>\n",
       "      <td>delivered</td>\n",
       "      <td>2017-11-18 19:28:06</td>\n",
       "      <td>2017-11-18 19:45:59</td>\n",
       "      <td>2017-11-22 13:39:59</td>\n",
       "      <td>2017-12-02 00:28:42</td>\n",
       "      <td>2017-12-15 00:00:00</td>\n",
       "    </tr>\n",
       "    <tr>\n",
       "      <th>4</th>\n",
       "      <td>ad21c59c0840e6cb83a9ceb5573f8159</td>\n",
       "      <td>8ab97904e6daea8866dbdbc4fb7aad2c</td>\n",
       "      <td>delivered</td>\n",
       "      <td>2018-02-13 21:18:39</td>\n",
       "      <td>2018-02-13 22:20:29</td>\n",
       "      <td>2018-02-14 19:46:34</td>\n",
       "      <td>2018-02-16 18:17:02</td>\n",
       "      <td>2018-02-26 00:00:00</td>\n",
       "    </tr>\n",
       "  </tbody>\n",
       "</table>\n",
       "</div>"
      ],
      "text/plain": [
       "                           order_id                       customer_id  \\\n",
       "0  e481f51cbdc54678b7cc49136f2d6af7  9ef432eb6251297304e76186b10a928d   \n",
       "1  53cdb2fc8bc7dce0b6741e2150273451  b0830fb4747a6c6d20dea0b8c802d7ef   \n",
       "2  47770eb9100c2d0c44946d9cf07ec65d  41ce2a54c0b03bf3443c3d931a367089   \n",
       "3  949d5b44dbf5de918fe9c16f97b45f8a  f88197465ea7920adcdbec7375364d82   \n",
       "4  ad21c59c0840e6cb83a9ceb5573f8159  8ab97904e6daea8866dbdbc4fb7aad2c   \n",
       "\n",
       "  order_status order_purchase_timestamp    order_approved_at  \\\n",
       "0    delivered      2017-10-02 10:56:33  2017-10-02 11:07:15   \n",
       "1    delivered      2018-07-24 20:41:37  2018-07-26 03:24:27   \n",
       "2    delivered      2018-08-08 08:38:49  2018-08-08 08:55:23   \n",
       "3    delivered      2017-11-18 19:28:06  2017-11-18 19:45:59   \n",
       "4    delivered      2018-02-13 21:18:39  2018-02-13 22:20:29   \n",
       "\n",
       "  order_delivered_carrier_date order_delivered_customer_date  \\\n",
       "0          2017-10-04 19:55:00           2017-10-10 21:25:13   \n",
       "1          2018-07-26 14:31:00           2018-08-07 15:27:45   \n",
       "2          2018-08-08 13:50:00           2018-08-17 18:06:29   \n",
       "3          2017-11-22 13:39:59           2017-12-02 00:28:42   \n",
       "4          2018-02-14 19:46:34           2018-02-16 18:17:02   \n",
       "\n",
       "  order_estimated_delivery_date  \n",
       "0           2017-10-18 00:00:00  \n",
       "1           2018-08-13 00:00:00  \n",
       "2           2018-09-04 00:00:00  \n",
       "3           2017-12-15 00:00:00  \n",
       "4           2018-02-26 00:00:00  "
      ]
     },
     "execution_count": 31,
     "metadata": {},
     "output_type": "execute_result"
    }
   ],
   "source": [
    "orders.head()"
   ]
  },
  {
   "cell_type": "markdown",
   "id": "52dae5c2",
   "metadata": {},
   "source": [
    "Proportions de valeurs manquantes par variable :"
   ]
  },
  {
   "cell_type": "code",
   "execution_count": 32,
   "id": "1a71cb06",
   "metadata": {},
   "outputs": [
    {
     "data": {
      "text/plain": [
       "order_id                         0.00\n",
       "customer_id                      0.00\n",
       "order_status                     0.00\n",
       "order_purchase_timestamp         0.00\n",
       "order_approved_at                0.00\n",
       "order_delivered_carrier_date     0.02\n",
       "order_delivered_customer_date    0.03\n",
       "order_estimated_delivery_date    0.00\n",
       "dtype: float64"
      ]
     },
     "execution_count": 32,
     "metadata": {},
     "output_type": "execute_result"
    }
   ],
   "source": [
    "orders.isna().mean().round(2)"
   ]
  },
  {
   "cell_type": "markdown",
   "id": "269c4199",
   "metadata": {},
   "source": [
    "Proportion de doublons :"
   ]
  },
  {
   "cell_type": "code",
   "execution_count": 33,
   "id": "6d6f2c8c",
   "metadata": {},
   "outputs": [
    {
     "data": {
      "text/plain": [
       "0.0"
      ]
     },
     "execution_count": 33,
     "metadata": {},
     "output_type": "execute_result"
    }
   ],
   "source": [
    "orders.duplicated().mean().round(2)"
   ]
  },
  {
   "cell_type": "markdown",
   "id": "caaf5ff0",
   "metadata": {},
   "source": [
    "Types des variables :"
   ]
  },
  {
   "cell_type": "code",
   "execution_count": 34,
   "id": "1ca1d986",
   "metadata": {},
   "outputs": [
    {
     "data": {
      "text/plain": [
       "order_id                         object\n",
       "customer_id                      object\n",
       "order_status                     object\n",
       "order_purchase_timestamp         object\n",
       "order_approved_at                object\n",
       "order_delivered_carrier_date     object\n",
       "order_delivered_customer_date    object\n",
       "order_estimated_delivery_date    object\n",
       "dtype: object"
      ]
     },
     "execution_count": 34,
     "metadata": {},
     "output_type": "execute_result"
    }
   ],
   "source": [
    "orders.dtypes"
   ]
  },
  {
   "cell_type": "markdown",
   "id": "7ba96225",
   "metadata": {},
   "source": [
    "Conversion au format date et heure des variables :\n",
    "- order_purchase_timestamp\n",
    "- order_approved_at\n",
    "- order_delivered_carrier_date\n",
    "- order_delivered_customer_date\n",
    "- order_estimated_delivery_date"
   ]
  },
  {
   "cell_type": "code",
   "execution_count": 35,
   "id": "620f3c69",
   "metadata": {},
   "outputs": [],
   "source": [
    "dates = ['order_purchase_timestamp',\n",
    "         'order_approved_at',\n",
    "         'order_delivered_carrier_date',\n",
    "         'order_delivered_customer_date',\n",
    "         'order_estimated_delivery_date']\n",
    "\n",
    "orders[dates] = orders[dates].apply(pd.to_datetime, format='%Y-%m-%d %H:%M:%S')"
   ]
  },
  {
   "cell_type": "markdown",
   "id": "5d81ba90",
   "metadata": {},
   "source": [
    "## 2.7. Products"
   ]
  },
  {
   "cell_type": "markdown",
   "id": "9a360ec7",
   "metadata": {},
   "source": [
    "Forme de la table :"
   ]
  },
  {
   "cell_type": "code",
   "execution_count": 36,
   "id": "361b23e8",
   "metadata": {},
   "outputs": [
    {
     "data": {
      "text/plain": [
       "(32951, 9)"
      ]
     },
     "execution_count": 36,
     "metadata": {},
     "output_type": "execute_result"
    }
   ],
   "source": [
    "products.shape"
   ]
  },
  {
   "cell_type": "markdown",
   "id": "800269e2",
   "metadata": {},
   "source": [
    "Tête de la table (5 premières lignes) :"
   ]
  },
  {
   "cell_type": "code",
   "execution_count": 37,
   "id": "43e87397",
   "metadata": {},
   "outputs": [
    {
     "data": {
      "text/html": [
       "<div>\n",
       "<style scoped>\n",
       "    .dataframe tbody tr th:only-of-type {\n",
       "        vertical-align: middle;\n",
       "    }\n",
       "\n",
       "    .dataframe tbody tr th {\n",
       "        vertical-align: top;\n",
       "    }\n",
       "\n",
       "    .dataframe thead th {\n",
       "        text-align: right;\n",
       "    }\n",
       "</style>\n",
       "<table border=\"1\" class=\"dataframe\">\n",
       "  <thead>\n",
       "    <tr style=\"text-align: right;\">\n",
       "      <th></th>\n",
       "      <th>product_id</th>\n",
       "      <th>product_category_name</th>\n",
       "      <th>product_name_lenght</th>\n",
       "      <th>product_description_lenght</th>\n",
       "      <th>product_photos_qty</th>\n",
       "      <th>product_weight_g</th>\n",
       "      <th>product_length_cm</th>\n",
       "      <th>product_height_cm</th>\n",
       "      <th>product_width_cm</th>\n",
       "    </tr>\n",
       "  </thead>\n",
       "  <tbody>\n",
       "    <tr>\n",
       "      <th>0</th>\n",
       "      <td>1e9e8ef04dbcff4541ed26657ea517e5</td>\n",
       "      <td>perfumaria</td>\n",
       "      <td>40.0</td>\n",
       "      <td>287.0</td>\n",
       "      <td>1.0</td>\n",
       "      <td>225.0</td>\n",
       "      <td>16.0</td>\n",
       "      <td>10.0</td>\n",
       "      <td>14.0</td>\n",
       "    </tr>\n",
       "    <tr>\n",
       "      <th>1</th>\n",
       "      <td>3aa071139cb16b67ca9e5dea641aaa2f</td>\n",
       "      <td>artes</td>\n",
       "      <td>44.0</td>\n",
       "      <td>276.0</td>\n",
       "      <td>1.0</td>\n",
       "      <td>1000.0</td>\n",
       "      <td>30.0</td>\n",
       "      <td>18.0</td>\n",
       "      <td>20.0</td>\n",
       "    </tr>\n",
       "    <tr>\n",
       "      <th>2</th>\n",
       "      <td>96bd76ec8810374ed1b65e291975717f</td>\n",
       "      <td>esporte_lazer</td>\n",
       "      <td>46.0</td>\n",
       "      <td>250.0</td>\n",
       "      <td>1.0</td>\n",
       "      <td>154.0</td>\n",
       "      <td>18.0</td>\n",
       "      <td>9.0</td>\n",
       "      <td>15.0</td>\n",
       "    </tr>\n",
       "    <tr>\n",
       "      <th>3</th>\n",
       "      <td>cef67bcfe19066a932b7673e239eb23d</td>\n",
       "      <td>bebes</td>\n",
       "      <td>27.0</td>\n",
       "      <td>261.0</td>\n",
       "      <td>1.0</td>\n",
       "      <td>371.0</td>\n",
       "      <td>26.0</td>\n",
       "      <td>4.0</td>\n",
       "      <td>26.0</td>\n",
       "    </tr>\n",
       "    <tr>\n",
       "      <th>4</th>\n",
       "      <td>9dc1a7de274444849c219cff195d0b71</td>\n",
       "      <td>utilidades_domesticas</td>\n",
       "      <td>37.0</td>\n",
       "      <td>402.0</td>\n",
       "      <td>4.0</td>\n",
       "      <td>625.0</td>\n",
       "      <td>20.0</td>\n",
       "      <td>17.0</td>\n",
       "      <td>13.0</td>\n",
       "    </tr>\n",
       "  </tbody>\n",
       "</table>\n",
       "</div>"
      ],
      "text/plain": [
       "                         product_id  product_category_name  \\\n",
       "0  1e9e8ef04dbcff4541ed26657ea517e5             perfumaria   \n",
       "1  3aa071139cb16b67ca9e5dea641aaa2f                  artes   \n",
       "2  96bd76ec8810374ed1b65e291975717f          esporte_lazer   \n",
       "3  cef67bcfe19066a932b7673e239eb23d                  bebes   \n",
       "4  9dc1a7de274444849c219cff195d0b71  utilidades_domesticas   \n",
       "\n",
       "   product_name_lenght  product_description_lenght  product_photos_qty  \\\n",
       "0                 40.0                       287.0                 1.0   \n",
       "1                 44.0                       276.0                 1.0   \n",
       "2                 46.0                       250.0                 1.0   \n",
       "3                 27.0                       261.0                 1.0   \n",
       "4                 37.0                       402.0                 4.0   \n",
       "\n",
       "   product_weight_g  product_length_cm  product_height_cm  product_width_cm  \n",
       "0             225.0               16.0               10.0              14.0  \n",
       "1            1000.0               30.0               18.0              20.0  \n",
       "2             154.0               18.0                9.0              15.0  \n",
       "3             371.0               26.0                4.0              26.0  \n",
       "4             625.0               20.0               17.0              13.0  "
      ]
     },
     "execution_count": 37,
     "metadata": {},
     "output_type": "execute_result"
    }
   ],
   "source": [
    "products.head()"
   ]
  },
  {
   "cell_type": "markdown",
   "id": "903d027b",
   "metadata": {},
   "source": [
    "Proportions de valeurs manquantes par variable :"
   ]
  },
  {
   "cell_type": "code",
   "execution_count": 38,
   "id": "eee17b9e",
   "metadata": {},
   "outputs": [
    {
     "data": {
      "text/plain": [
       "product_id                    0.00\n",
       "product_category_name         0.02\n",
       "product_name_lenght           0.02\n",
       "product_description_lenght    0.02\n",
       "product_photos_qty            0.02\n",
       "product_weight_g              0.00\n",
       "product_length_cm             0.00\n",
       "product_height_cm             0.00\n",
       "product_width_cm              0.00\n",
       "dtype: float64"
      ]
     },
     "execution_count": 38,
     "metadata": {},
     "output_type": "execute_result"
    }
   ],
   "source": [
    "products.isna().mean().round(2)"
   ]
  },
  {
   "cell_type": "markdown",
   "id": "562afb16",
   "metadata": {},
   "source": [
    "Proportion de doublons :"
   ]
  },
  {
   "cell_type": "code",
   "execution_count": 39,
   "id": "1df600b1",
   "metadata": {},
   "outputs": [
    {
     "data": {
      "text/plain": [
       "0.0"
      ]
     },
     "execution_count": 39,
     "metadata": {},
     "output_type": "execute_result"
    }
   ],
   "source": [
    "products.duplicated().mean().round(2)"
   ]
  },
  {
   "cell_type": "markdown",
   "id": "2a97280d",
   "metadata": {},
   "source": [
    "Types des variables :"
   ]
  },
  {
   "cell_type": "code",
   "execution_count": 40,
   "id": "b34f9f52",
   "metadata": {},
   "outputs": [
    {
     "data": {
      "text/plain": [
       "product_id                     object\n",
       "product_category_name          object\n",
       "product_name_lenght           float64\n",
       "product_description_lenght    float64\n",
       "product_photos_qty            float64\n",
       "product_weight_g              float64\n",
       "product_length_cm             float64\n",
       "product_height_cm             float64\n",
       "product_width_cm              float64\n",
       "dtype: object"
      ]
     },
     "execution_count": 40,
     "metadata": {},
     "output_type": "execute_result"
    }
   ],
   "source": [
    "products.dtypes"
   ]
  },
  {
   "cell_type": "markdown",
   "id": "068a9b56",
   "metadata": {},
   "source": [
    "## 2.8. Sellers"
   ]
  },
  {
   "cell_type": "markdown",
   "id": "03101a87",
   "metadata": {},
   "source": [
    "Forme de la table :"
   ]
  },
  {
   "cell_type": "code",
   "execution_count": 41,
   "id": "8b822df6",
   "metadata": {},
   "outputs": [
    {
     "data": {
      "text/plain": [
       "(3095, 4)"
      ]
     },
     "execution_count": 41,
     "metadata": {},
     "output_type": "execute_result"
    }
   ],
   "source": [
    "sellers.shape"
   ]
  },
  {
   "cell_type": "markdown",
   "id": "e5ab78a4",
   "metadata": {},
   "source": [
    "Tête de la table (5 premières lignes) :"
   ]
  },
  {
   "cell_type": "code",
   "execution_count": 42,
   "id": "1f090e78",
   "metadata": {},
   "outputs": [
    {
     "data": {
      "text/html": [
       "<div>\n",
       "<style scoped>\n",
       "    .dataframe tbody tr th:only-of-type {\n",
       "        vertical-align: middle;\n",
       "    }\n",
       "\n",
       "    .dataframe tbody tr th {\n",
       "        vertical-align: top;\n",
       "    }\n",
       "\n",
       "    .dataframe thead th {\n",
       "        text-align: right;\n",
       "    }\n",
       "</style>\n",
       "<table border=\"1\" class=\"dataframe\">\n",
       "  <thead>\n",
       "    <tr style=\"text-align: right;\">\n",
       "      <th></th>\n",
       "      <th>seller_id</th>\n",
       "      <th>seller_zip_code_prefix</th>\n",
       "      <th>seller_city</th>\n",
       "      <th>seller_state</th>\n",
       "    </tr>\n",
       "  </thead>\n",
       "  <tbody>\n",
       "    <tr>\n",
       "      <th>0</th>\n",
       "      <td>3442f8959a84dea7ee197c632cb2df15</td>\n",
       "      <td>13023</td>\n",
       "      <td>campinas</td>\n",
       "      <td>SP</td>\n",
       "    </tr>\n",
       "    <tr>\n",
       "      <th>1</th>\n",
       "      <td>d1b65fc7debc3361ea86b5f14c68d2e2</td>\n",
       "      <td>13844</td>\n",
       "      <td>mogi guacu</td>\n",
       "      <td>SP</td>\n",
       "    </tr>\n",
       "    <tr>\n",
       "      <th>2</th>\n",
       "      <td>ce3ad9de960102d0677a81f5d0bb7b2d</td>\n",
       "      <td>20031</td>\n",
       "      <td>rio de janeiro</td>\n",
       "      <td>RJ</td>\n",
       "    </tr>\n",
       "    <tr>\n",
       "      <th>3</th>\n",
       "      <td>c0f3eea2e14555b6faeea3dd58c1b1c3</td>\n",
       "      <td>4195</td>\n",
       "      <td>sao paulo</td>\n",
       "      <td>SP</td>\n",
       "    </tr>\n",
       "    <tr>\n",
       "      <th>4</th>\n",
       "      <td>51a04a8a6bdcb23deccc82b0b80742cf</td>\n",
       "      <td>12914</td>\n",
       "      <td>braganca paulista</td>\n",
       "      <td>SP</td>\n",
       "    </tr>\n",
       "  </tbody>\n",
       "</table>\n",
       "</div>"
      ],
      "text/plain": [
       "                          seller_id  seller_zip_code_prefix  \\\n",
       "0  3442f8959a84dea7ee197c632cb2df15                   13023   \n",
       "1  d1b65fc7debc3361ea86b5f14c68d2e2                   13844   \n",
       "2  ce3ad9de960102d0677a81f5d0bb7b2d                   20031   \n",
       "3  c0f3eea2e14555b6faeea3dd58c1b1c3                    4195   \n",
       "4  51a04a8a6bdcb23deccc82b0b80742cf                   12914   \n",
       "\n",
       "         seller_city seller_state  \n",
       "0           campinas           SP  \n",
       "1         mogi guacu           SP  \n",
       "2     rio de janeiro           RJ  \n",
       "3          sao paulo           SP  \n",
       "4  braganca paulista           SP  "
      ]
     },
     "execution_count": 42,
     "metadata": {},
     "output_type": "execute_result"
    }
   ],
   "source": [
    "sellers.head()"
   ]
  },
  {
   "cell_type": "markdown",
   "id": "b15ad44f",
   "metadata": {},
   "source": [
    "Proportions de valeurs manquantes par variable :"
   ]
  },
  {
   "cell_type": "code",
   "execution_count": 43,
   "id": "268c971c",
   "metadata": {},
   "outputs": [
    {
     "data": {
      "text/plain": [
       "seller_id                 0.0\n",
       "seller_zip_code_prefix    0.0\n",
       "seller_city               0.0\n",
       "seller_state              0.0\n",
       "dtype: float64"
      ]
     },
     "execution_count": 43,
     "metadata": {},
     "output_type": "execute_result"
    }
   ],
   "source": [
    "sellers.isna().mean().round(2)"
   ]
  },
  {
   "cell_type": "markdown",
   "id": "dc327aa4",
   "metadata": {},
   "source": [
    "Proportion de doublons :"
   ]
  },
  {
   "cell_type": "code",
   "execution_count": 44,
   "id": "e1c38b46",
   "metadata": {},
   "outputs": [
    {
     "data": {
      "text/plain": [
       "0.0"
      ]
     },
     "execution_count": 44,
     "metadata": {},
     "output_type": "execute_result"
    }
   ],
   "source": [
    "sellers.duplicated().mean().round(2)"
   ]
  },
  {
   "cell_type": "markdown",
   "id": "d81f4675",
   "metadata": {},
   "source": [
    "Types des variables :"
   ]
  },
  {
   "cell_type": "code",
   "execution_count": 45,
   "id": "621340e0",
   "metadata": {},
   "outputs": [
    {
     "data": {
      "text/plain": [
       "seller_id                 object\n",
       "seller_zip_code_prefix     int64\n",
       "seller_city               object\n",
       "seller_state              object\n",
       "dtype: object"
      ]
     },
     "execution_count": 45,
     "metadata": {},
     "output_type": "execute_result"
    }
   ],
   "source": [
    "sellers.dtypes"
   ]
  },
  {
   "cell_type": "markdown",
   "id": "8f281f6c",
   "metadata": {},
   "source": [
    "## 2.9. Product category name translation"
   ]
  },
  {
   "cell_type": "markdown",
   "id": "1fb0dc00",
   "metadata": {},
   "source": [
    "Forme de la table :"
   ]
  },
  {
   "cell_type": "code",
   "execution_count": 46,
   "id": "7c0345fc",
   "metadata": {},
   "outputs": [
    {
     "data": {
      "text/plain": [
       "(71, 2)"
      ]
     },
     "execution_count": 46,
     "metadata": {},
     "output_type": "execute_result"
    }
   ],
   "source": [
    "translation.shape"
   ]
  },
  {
   "cell_type": "markdown",
   "id": "6b362c01",
   "metadata": {},
   "source": [
    "Tête de la table (5 premières lignes) :"
   ]
  },
  {
   "cell_type": "code",
   "execution_count": 47,
   "id": "551983e5",
   "metadata": {},
   "outputs": [
    {
     "data": {
      "text/html": [
       "<div>\n",
       "<style scoped>\n",
       "    .dataframe tbody tr th:only-of-type {\n",
       "        vertical-align: middle;\n",
       "    }\n",
       "\n",
       "    .dataframe tbody tr th {\n",
       "        vertical-align: top;\n",
       "    }\n",
       "\n",
       "    .dataframe thead th {\n",
       "        text-align: right;\n",
       "    }\n",
       "</style>\n",
       "<table border=\"1\" class=\"dataframe\">\n",
       "  <thead>\n",
       "    <tr style=\"text-align: right;\">\n",
       "      <th></th>\n",
       "      <th>product_category_name</th>\n",
       "      <th>product_category_name_english</th>\n",
       "    </tr>\n",
       "  </thead>\n",
       "  <tbody>\n",
       "    <tr>\n",
       "      <th>0</th>\n",
       "      <td>beleza_saude</td>\n",
       "      <td>health_beauty</td>\n",
       "    </tr>\n",
       "    <tr>\n",
       "      <th>1</th>\n",
       "      <td>informatica_acessorios</td>\n",
       "      <td>computers_accessories</td>\n",
       "    </tr>\n",
       "    <tr>\n",
       "      <th>2</th>\n",
       "      <td>automotivo</td>\n",
       "      <td>auto</td>\n",
       "    </tr>\n",
       "    <tr>\n",
       "      <th>3</th>\n",
       "      <td>cama_mesa_banho</td>\n",
       "      <td>bed_bath_table</td>\n",
       "    </tr>\n",
       "    <tr>\n",
       "      <th>4</th>\n",
       "      <td>moveis_decoracao</td>\n",
       "      <td>furniture_decor</td>\n",
       "    </tr>\n",
       "  </tbody>\n",
       "</table>\n",
       "</div>"
      ],
      "text/plain": [
       "    product_category_name product_category_name_english\n",
       "0            beleza_saude                 health_beauty\n",
       "1  informatica_acessorios         computers_accessories\n",
       "2              automotivo                          auto\n",
       "3         cama_mesa_banho                bed_bath_table\n",
       "4        moveis_decoracao               furniture_decor"
      ]
     },
     "execution_count": 47,
     "metadata": {},
     "output_type": "execute_result"
    }
   ],
   "source": [
    "translation.head()"
   ]
  },
  {
   "cell_type": "markdown",
   "id": "d78055b2",
   "metadata": {},
   "source": [
    "Proportions de valeurs manquantes par variable :"
   ]
  },
  {
   "cell_type": "code",
   "execution_count": 48,
   "id": "658b8783",
   "metadata": {},
   "outputs": [
    {
     "data": {
      "text/plain": [
       "product_category_name            0.0\n",
       "product_category_name_english    0.0\n",
       "dtype: float64"
      ]
     },
     "execution_count": 48,
     "metadata": {},
     "output_type": "execute_result"
    }
   ],
   "source": [
    "translation.isna().mean().round(2)"
   ]
  },
  {
   "cell_type": "markdown",
   "id": "83a6a12b",
   "metadata": {},
   "source": [
    "Proportion de doublons :"
   ]
  },
  {
   "cell_type": "code",
   "execution_count": 49,
   "id": "a0694dde",
   "metadata": {},
   "outputs": [
    {
     "data": {
      "text/plain": [
       "0.0"
      ]
     },
     "execution_count": 49,
     "metadata": {},
     "output_type": "execute_result"
    }
   ],
   "source": [
    "translation.duplicated().mean().round(2)"
   ]
  },
  {
   "cell_type": "markdown",
   "id": "a1cd5a9d",
   "metadata": {},
   "source": [
    "Types des variables :"
   ]
  },
  {
   "cell_type": "code",
   "execution_count": 50,
   "id": "1434e66a",
   "metadata": {},
   "outputs": [
    {
     "data": {
      "text/plain": [
       "product_category_name            object\n",
       "product_category_name_english    object\n",
       "dtype: object"
      ]
     },
     "execution_count": 50,
     "metadata": {},
     "output_type": "execute_result"
    }
   ],
   "source": [
    "translation.dtypes"
   ]
  },
  {
   "cell_type": "markdown",
   "id": "da8d826f",
   "metadata": {},
   "source": [
    "# 3. Tableau RFM"
   ]
  },
  {
   "cell_type": "markdown",
   "id": "e10f86ea",
   "metadata": {},
   "source": [
    "On souhaite réaliser une segmentation des clients à partir d'une base de données contenant des informations sur environ 100 000 commandes de 2016 à 2018. Pour cela, on utilisera notamment la méthode RFM, qui permet de segmenter les clients à partir de 3 dimensions :\n",
    "- **R**écence : _Date de la dernière commande_\n",
    "- **F**réquence : _Fréquence des commandes_\n",
    "- **M**ontant : _Somme des commandes cumulées_\n",
    "\n",
    "Cependant, il va nous falloir créer ces variables à partir de celles que nous avons à disposition. De plus, nos variables se trouvent dans différentes tables. Par ailleurs, nous allons également réaliser une segmentation  prenant en compte la satisfaction des clients. En conséquence, en plus des dimensions RFM, nous sélectionnerons la variable \"review_score\".\n",
    "\n",
    "Enfin, les variables que nous utiliserons pour la fusion des données et le feature engineering sont :\n",
    "- customer_id : _Key to the orders dataset. Each order has a unique customer_id_\n",
    "- customer_unique_id : _Unique identifier of a customer_\n",
    "- order_id : _Order unique identifier_\n",
    "- payment_value : _Transaction value_\n",
    "- order_purchase_timestamp : _Shows the purchase timestamp_\n",
    "- review_score : _Note ranging from 1 to 5 given by the customer on a satisfaction survey_"
   ]
  },
  {
   "cell_type": "markdown",
   "id": "e4511237",
   "metadata": {},
   "source": [
    "## 3.1. Fusion des données"
   ]
  },
  {
   "cell_type": "code",
   "execution_count": 51,
   "id": "1281e3a7",
   "metadata": {},
   "outputs": [
    {
     "data": {
      "text/plain": [
       "(103886, 12)"
      ]
     },
     "execution_count": 51,
     "metadata": {},
     "output_type": "execute_result"
    }
   ],
   "source": [
    "df = orders.merge(order_payments, how='inner', on='order_id')\n",
    "df.shape"
   ]
  },
  {
   "cell_type": "code",
   "execution_count": 52,
   "id": "1bdc6902",
   "metadata": {},
   "outputs": [
    {
     "data": {
      "text/plain": [
       "(103677, 18)"
      ]
     },
     "execution_count": 52,
     "metadata": {},
     "output_type": "execute_result"
    }
   ],
   "source": [
    "df = df.merge(order_reviews, how='inner', on='order_id')\n",
    "df.shape"
   ]
  },
  {
   "cell_type": "code",
   "execution_count": 53,
   "id": "8fbc47e5",
   "metadata": {},
   "outputs": [
    {
     "data": {
      "text/plain": [
       "(103677, 22)"
      ]
     },
     "execution_count": 53,
     "metadata": {},
     "output_type": "execute_result"
    }
   ],
   "source": [
    "df = df.merge(customers, how='inner', on='customer_id')\n",
    "df.shape"
   ]
  },
  {
   "cell_type": "code",
   "execution_count": 54,
   "id": "745258d6",
   "metadata": {},
   "outputs": [
    {
     "data": {
      "text/html": [
       "<div>\n",
       "<style scoped>\n",
       "    .dataframe tbody tr th:only-of-type {\n",
       "        vertical-align: middle;\n",
       "    }\n",
       "\n",
       "    .dataframe tbody tr th {\n",
       "        vertical-align: top;\n",
       "    }\n",
       "\n",
       "    .dataframe thead th {\n",
       "        text-align: right;\n",
       "    }\n",
       "</style>\n",
       "<table border=\"1\" class=\"dataframe\">\n",
       "  <thead>\n",
       "    <tr style=\"text-align: right;\">\n",
       "      <th></th>\n",
       "      <th>order_id</th>\n",
       "      <th>customer_id</th>\n",
       "      <th>order_status</th>\n",
       "      <th>order_purchase_timestamp</th>\n",
       "      <th>order_approved_at</th>\n",
       "      <th>order_delivered_carrier_date</th>\n",
       "      <th>order_delivered_customer_date</th>\n",
       "      <th>order_estimated_delivery_date</th>\n",
       "      <th>payment_sequential</th>\n",
       "      <th>payment_type</th>\n",
       "      <th>...</th>\n",
       "      <th>review_id</th>\n",
       "      <th>review_score</th>\n",
       "      <th>review_comment_title</th>\n",
       "      <th>review_comment_message</th>\n",
       "      <th>review_creation_date</th>\n",
       "      <th>review_answer_timestamp</th>\n",
       "      <th>customer_unique_id</th>\n",
       "      <th>customer_zip_code_prefix</th>\n",
       "      <th>customer_city</th>\n",
       "      <th>customer_state</th>\n",
       "    </tr>\n",
       "  </thead>\n",
       "  <tbody>\n",
       "    <tr>\n",
       "      <th>0</th>\n",
       "      <td>e481f51cbdc54678b7cc49136f2d6af7</td>\n",
       "      <td>9ef432eb6251297304e76186b10a928d</td>\n",
       "      <td>delivered</td>\n",
       "      <td>2017-10-02 10:56:33</td>\n",
       "      <td>2017-10-02 11:07:15</td>\n",
       "      <td>2017-10-04 19:55:00</td>\n",
       "      <td>2017-10-10 21:25:13</td>\n",
       "      <td>2017-10-18</td>\n",
       "      <td>1</td>\n",
       "      <td>credit_card</td>\n",
       "      <td>...</td>\n",
       "      <td>a54f0611adc9ed256b57ede6b6eb5114</td>\n",
       "      <td>4</td>\n",
       "      <td>NaN</td>\n",
       "      <td>Não testei o produto ainda, mas ele veio corre...</td>\n",
       "      <td>2017-10-11</td>\n",
       "      <td>2017-10-12 03:43:48</td>\n",
       "      <td>7c396fd4830fd04220f754e42b4e5bff</td>\n",
       "      <td>3149</td>\n",
       "      <td>sao paulo</td>\n",
       "      <td>SP</td>\n",
       "    </tr>\n",
       "    <tr>\n",
       "      <th>1</th>\n",
       "      <td>e481f51cbdc54678b7cc49136f2d6af7</td>\n",
       "      <td>9ef432eb6251297304e76186b10a928d</td>\n",
       "      <td>delivered</td>\n",
       "      <td>2017-10-02 10:56:33</td>\n",
       "      <td>2017-10-02 11:07:15</td>\n",
       "      <td>2017-10-04 19:55:00</td>\n",
       "      <td>2017-10-10 21:25:13</td>\n",
       "      <td>2017-10-18</td>\n",
       "      <td>3</td>\n",
       "      <td>voucher</td>\n",
       "      <td>...</td>\n",
       "      <td>a54f0611adc9ed256b57ede6b6eb5114</td>\n",
       "      <td>4</td>\n",
       "      <td>NaN</td>\n",
       "      <td>Não testei o produto ainda, mas ele veio corre...</td>\n",
       "      <td>2017-10-11</td>\n",
       "      <td>2017-10-12 03:43:48</td>\n",
       "      <td>7c396fd4830fd04220f754e42b4e5bff</td>\n",
       "      <td>3149</td>\n",
       "      <td>sao paulo</td>\n",
       "      <td>SP</td>\n",
       "    </tr>\n",
       "    <tr>\n",
       "      <th>2</th>\n",
       "      <td>e481f51cbdc54678b7cc49136f2d6af7</td>\n",
       "      <td>9ef432eb6251297304e76186b10a928d</td>\n",
       "      <td>delivered</td>\n",
       "      <td>2017-10-02 10:56:33</td>\n",
       "      <td>2017-10-02 11:07:15</td>\n",
       "      <td>2017-10-04 19:55:00</td>\n",
       "      <td>2017-10-10 21:25:13</td>\n",
       "      <td>2017-10-18</td>\n",
       "      <td>2</td>\n",
       "      <td>voucher</td>\n",
       "      <td>...</td>\n",
       "      <td>a54f0611adc9ed256b57ede6b6eb5114</td>\n",
       "      <td>4</td>\n",
       "      <td>NaN</td>\n",
       "      <td>Não testei o produto ainda, mas ele veio corre...</td>\n",
       "      <td>2017-10-11</td>\n",
       "      <td>2017-10-12 03:43:48</td>\n",
       "      <td>7c396fd4830fd04220f754e42b4e5bff</td>\n",
       "      <td>3149</td>\n",
       "      <td>sao paulo</td>\n",
       "      <td>SP</td>\n",
       "    </tr>\n",
       "    <tr>\n",
       "      <th>3</th>\n",
       "      <td>53cdb2fc8bc7dce0b6741e2150273451</td>\n",
       "      <td>b0830fb4747a6c6d20dea0b8c802d7ef</td>\n",
       "      <td>delivered</td>\n",
       "      <td>2018-07-24 20:41:37</td>\n",
       "      <td>2018-07-26 03:24:27</td>\n",
       "      <td>2018-07-26 14:31:00</td>\n",
       "      <td>2018-08-07 15:27:45</td>\n",
       "      <td>2018-08-13</td>\n",
       "      <td>1</td>\n",
       "      <td>boleto</td>\n",
       "      <td>...</td>\n",
       "      <td>8d5266042046a06655c8db133d120ba5</td>\n",
       "      <td>4</td>\n",
       "      <td>Muito boa a loja</td>\n",
       "      <td>Muito bom o produto.</td>\n",
       "      <td>2018-08-08</td>\n",
       "      <td>2018-08-08 18:37:50</td>\n",
       "      <td>af07308b275d755c9edb36a90c618231</td>\n",
       "      <td>47813</td>\n",
       "      <td>barreiras</td>\n",
       "      <td>BA</td>\n",
       "    </tr>\n",
       "    <tr>\n",
       "      <th>4</th>\n",
       "      <td>47770eb9100c2d0c44946d9cf07ec65d</td>\n",
       "      <td>41ce2a54c0b03bf3443c3d931a367089</td>\n",
       "      <td>delivered</td>\n",
       "      <td>2018-08-08 08:38:49</td>\n",
       "      <td>2018-08-08 08:55:23</td>\n",
       "      <td>2018-08-08 13:50:00</td>\n",
       "      <td>2018-08-17 18:06:29</td>\n",
       "      <td>2018-09-04</td>\n",
       "      <td>1</td>\n",
       "      <td>credit_card</td>\n",
       "      <td>...</td>\n",
       "      <td>e73b67b67587f7644d5bd1a52deb1b01</td>\n",
       "      <td>5</td>\n",
       "      <td>NaN</td>\n",
       "      <td>NaN</td>\n",
       "      <td>2018-08-18</td>\n",
       "      <td>2018-08-22 19:07:58</td>\n",
       "      <td>3a653a41f6f9fc3d2a113cf8398680e8</td>\n",
       "      <td>75265</td>\n",
       "      <td>vianopolis</td>\n",
       "      <td>GO</td>\n",
       "    </tr>\n",
       "  </tbody>\n",
       "</table>\n",
       "<p>5 rows × 22 columns</p>\n",
       "</div>"
      ],
      "text/plain": [
       "                           order_id                       customer_id  \\\n",
       "0  e481f51cbdc54678b7cc49136f2d6af7  9ef432eb6251297304e76186b10a928d   \n",
       "1  e481f51cbdc54678b7cc49136f2d6af7  9ef432eb6251297304e76186b10a928d   \n",
       "2  e481f51cbdc54678b7cc49136f2d6af7  9ef432eb6251297304e76186b10a928d   \n",
       "3  53cdb2fc8bc7dce0b6741e2150273451  b0830fb4747a6c6d20dea0b8c802d7ef   \n",
       "4  47770eb9100c2d0c44946d9cf07ec65d  41ce2a54c0b03bf3443c3d931a367089   \n",
       "\n",
       "  order_status order_purchase_timestamp   order_approved_at  \\\n",
       "0    delivered      2017-10-02 10:56:33 2017-10-02 11:07:15   \n",
       "1    delivered      2017-10-02 10:56:33 2017-10-02 11:07:15   \n",
       "2    delivered      2017-10-02 10:56:33 2017-10-02 11:07:15   \n",
       "3    delivered      2018-07-24 20:41:37 2018-07-26 03:24:27   \n",
       "4    delivered      2018-08-08 08:38:49 2018-08-08 08:55:23   \n",
       "\n",
       "  order_delivered_carrier_date order_delivered_customer_date  \\\n",
       "0          2017-10-04 19:55:00           2017-10-10 21:25:13   \n",
       "1          2017-10-04 19:55:00           2017-10-10 21:25:13   \n",
       "2          2017-10-04 19:55:00           2017-10-10 21:25:13   \n",
       "3          2018-07-26 14:31:00           2018-08-07 15:27:45   \n",
       "4          2018-08-08 13:50:00           2018-08-17 18:06:29   \n",
       "\n",
       "  order_estimated_delivery_date  payment_sequential payment_type  ...  \\\n",
       "0                    2017-10-18                   1  credit_card  ...   \n",
       "1                    2017-10-18                   3      voucher  ...   \n",
       "2                    2017-10-18                   2      voucher  ...   \n",
       "3                    2018-08-13                   1       boleto  ...   \n",
       "4                    2018-09-04                   1  credit_card  ...   \n",
       "\n",
       "                          review_id  review_score review_comment_title  \\\n",
       "0  a54f0611adc9ed256b57ede6b6eb5114             4                  NaN   \n",
       "1  a54f0611adc9ed256b57ede6b6eb5114             4                  NaN   \n",
       "2  a54f0611adc9ed256b57ede6b6eb5114             4                  NaN   \n",
       "3  8d5266042046a06655c8db133d120ba5             4     Muito boa a loja   \n",
       "4  e73b67b67587f7644d5bd1a52deb1b01             5                  NaN   \n",
       "\n",
       "                              review_comment_message review_creation_date  \\\n",
       "0  Não testei o produto ainda, mas ele veio corre...           2017-10-11   \n",
       "1  Não testei o produto ainda, mas ele veio corre...           2017-10-11   \n",
       "2  Não testei o produto ainda, mas ele veio corre...           2017-10-11   \n",
       "3                               Muito bom o produto.           2018-08-08   \n",
       "4                                                NaN           2018-08-18   \n",
       "\n",
       "  review_answer_timestamp                customer_unique_id  \\\n",
       "0     2017-10-12 03:43:48  7c396fd4830fd04220f754e42b4e5bff   \n",
       "1     2017-10-12 03:43:48  7c396fd4830fd04220f754e42b4e5bff   \n",
       "2     2017-10-12 03:43:48  7c396fd4830fd04220f754e42b4e5bff   \n",
       "3     2018-08-08 18:37:50  af07308b275d755c9edb36a90c618231   \n",
       "4     2018-08-22 19:07:58  3a653a41f6f9fc3d2a113cf8398680e8   \n",
       "\n",
       "  customer_zip_code_prefix customer_city  customer_state  \n",
       "0                     3149     sao paulo              SP  \n",
       "1                     3149     sao paulo              SP  \n",
       "2                     3149     sao paulo              SP  \n",
       "3                    47813     barreiras              BA  \n",
       "4                    75265    vianopolis              GO  \n",
       "\n",
       "[5 rows x 22 columns]"
      ]
     },
     "execution_count": 54,
     "metadata": {},
     "output_type": "execute_result"
    }
   ],
   "source": [
    "df.head()"
   ]
  },
  {
   "cell_type": "markdown",
   "id": "10e7fd4c",
   "metadata": {},
   "source": [
    "## 3.2. Filtrage"
   ]
  },
  {
   "cell_type": "code",
   "execution_count": 55,
   "id": "76c7bf8c",
   "metadata": {},
   "outputs": [
    {
     "data": {
      "text/plain": [
       "delivered      0.97\n",
       "shipped        0.01\n",
       "canceled       0.01\n",
       "unavailable    0.01\n",
       "invoiced       0.00\n",
       "processing     0.00\n",
       "created        0.00\n",
       "approved       0.00\n",
       "Name: order_status, dtype: float64"
      ]
     },
     "execution_count": 55,
     "metadata": {},
     "output_type": "execute_result"
    }
   ],
   "source": [
    "df['order_status'].value_counts(normalize=True).round(2)"
   ]
  },
  {
   "cell_type": "markdown",
   "id": "e7ecb523",
   "metadata": {},
   "source": [
    "Nous allons filtrer les lignes de manière à garder uniquement les commandes qui ont été livrées :"
   ]
  },
  {
   "cell_type": "code",
   "execution_count": 56,
   "id": "7491e030",
   "metadata": {},
   "outputs": [
    {
     "data": {
      "text/plain": [
       "(100649, 22)"
      ]
     },
     "execution_count": 56,
     "metadata": {},
     "output_type": "execute_result"
    }
   ],
   "source": [
    "df = df[df['order_status'] == 'delivered']\n",
    "df.shape"
   ]
  },
  {
   "cell_type": "markdown",
   "id": "b6c89fb7",
   "metadata": {},
   "source": [
    "## 3.3. Feature engineering"
   ]
  },
  {
   "cell_type": "markdown",
   "id": "bc03a28b",
   "metadata": {},
   "source": [
    "Nous avons fusionné les tables nécessaires. Désormais, effectuons notre feature engineering par agrégation :"
   ]
  },
  {
   "cell_type": "code",
   "execution_count": 57,
   "id": "33de0ed8",
   "metadata": {},
   "outputs": [],
   "source": [
    "# Agrégation des données\n",
    "df = df.groupby('customer_unique_id').agg(\n",
    "    {'order_purchase_timestamp': 'max',  # Récence\n",
    "     'order_id': 'count',  # Fréquence\n",
    "     'payment_value': 'sum',  # Montant\n",
    "     'review_score': 'mean'  # Satisfaction\n",
    "     }).reset_index()\n",
    "\n",
    "# Attribution de noms adéquats à nos variables créées\n",
    "df = df.rename(columns={'order_purchase_timestamp': 'recency',\n",
    "                        'order_id': 'frequency',\n",
    "                        'payment_value': 'monetary'})\n",
    "\n",
    "# Amputation de la colonne \"customer_unique_id\" car elle n'a plus d'utilité\n",
    "df.drop('customer_unique_id', axis=1, inplace=True)"
   ]
  },
  {
   "cell_type": "markdown",
   "id": "9257ef29",
   "metadata": {},
   "source": [
    "Forme du tableau :"
   ]
  },
  {
   "cell_type": "code",
   "execution_count": 58,
   "id": "17093bbf",
   "metadata": {},
   "outputs": [
    {
     "data": {
      "text/plain": [
       "(92754, 4)"
      ]
     },
     "execution_count": 58,
     "metadata": {},
     "output_type": "execute_result"
    }
   ],
   "source": [
    "df.shape"
   ]
  },
  {
   "cell_type": "markdown",
   "id": "7e80b7ae",
   "metadata": {},
   "source": [
    "Tête du tableau (5 premières lignes) :"
   ]
  },
  {
   "cell_type": "code",
   "execution_count": 59,
   "id": "b88a0f11",
   "metadata": {},
   "outputs": [
    {
     "data": {
      "text/html": [
       "<div>\n",
       "<style scoped>\n",
       "    .dataframe tbody tr th:only-of-type {\n",
       "        vertical-align: middle;\n",
       "    }\n",
       "\n",
       "    .dataframe tbody tr th {\n",
       "        vertical-align: top;\n",
       "    }\n",
       "\n",
       "    .dataframe thead th {\n",
       "        text-align: right;\n",
       "    }\n",
       "</style>\n",
       "<table border=\"1\" class=\"dataframe\">\n",
       "  <thead>\n",
       "    <tr style=\"text-align: right;\">\n",
       "      <th></th>\n",
       "      <th>recency</th>\n",
       "      <th>frequency</th>\n",
       "      <th>monetary</th>\n",
       "      <th>review_score</th>\n",
       "    </tr>\n",
       "  </thead>\n",
       "  <tbody>\n",
       "    <tr>\n",
       "      <th>0</th>\n",
       "      <td>2018-05-10 10:56:27</td>\n",
       "      <td>1</td>\n",
       "      <td>141.90</td>\n",
       "      <td>5.0</td>\n",
       "    </tr>\n",
       "    <tr>\n",
       "      <th>1</th>\n",
       "      <td>2018-05-07 11:11:27</td>\n",
       "      <td>1</td>\n",
       "      <td>27.19</td>\n",
       "      <td>4.0</td>\n",
       "    </tr>\n",
       "    <tr>\n",
       "      <th>2</th>\n",
       "      <td>2017-03-10 21:05:03</td>\n",
       "      <td>1</td>\n",
       "      <td>86.22</td>\n",
       "      <td>3.0</td>\n",
       "    </tr>\n",
       "    <tr>\n",
       "      <th>3</th>\n",
       "      <td>2017-10-12 20:29:41</td>\n",
       "      <td>1</td>\n",
       "      <td>43.62</td>\n",
       "      <td>4.0</td>\n",
       "    </tr>\n",
       "    <tr>\n",
       "      <th>4</th>\n",
       "      <td>2017-11-14 19:45:42</td>\n",
       "      <td>1</td>\n",
       "      <td>196.89</td>\n",
       "      <td>5.0</td>\n",
       "    </tr>\n",
       "  </tbody>\n",
       "</table>\n",
       "</div>"
      ],
      "text/plain": [
       "              recency  frequency  monetary  review_score\n",
       "0 2018-05-10 10:56:27          1    141.90           5.0\n",
       "1 2018-05-07 11:11:27          1     27.19           4.0\n",
       "2 2017-03-10 21:05:03          1     86.22           3.0\n",
       "3 2017-10-12 20:29:41          1     43.62           4.0\n",
       "4 2017-11-14 19:45:42          1    196.89           5.0"
      ]
     },
     "execution_count": 59,
     "metadata": {},
     "output_type": "execute_result"
    }
   ],
   "source": [
    "df.head()"
   ]
  },
  {
   "cell_type": "markdown",
   "id": "9778f77c",
   "metadata": {},
   "source": [
    "Proportions de valeurs manquantes par variable :"
   ]
  },
  {
   "cell_type": "code",
   "execution_count": 60,
   "id": "6067ab9a",
   "metadata": {},
   "outputs": [
    {
     "data": {
      "text/plain": [
       "recency         0.0\n",
       "frequency       0.0\n",
       "monetary        0.0\n",
       "review_score    0.0\n",
       "dtype: float64"
      ]
     },
     "execution_count": 60,
     "metadata": {},
     "output_type": "execute_result"
    }
   ],
   "source": [
    "df.isna().mean().round(2)"
   ]
  },
  {
   "cell_type": "markdown",
   "id": "11d1f63c",
   "metadata": {},
   "source": [
    "Proportion de doublons :"
   ]
  },
  {
   "cell_type": "code",
   "execution_count": 61,
   "id": "2d1d134a",
   "metadata": {},
   "outputs": [
    {
     "data": {
      "text/plain": [
       "0.0"
      ]
     },
     "execution_count": 61,
     "metadata": {},
     "output_type": "execute_result"
    }
   ],
   "source": [
    "df.duplicated().mean().round(2)"
   ]
  },
  {
   "cell_type": "markdown",
   "id": "3f1d6e92",
   "metadata": {},
   "source": [
    "Types des variables :"
   ]
  },
  {
   "cell_type": "code",
   "execution_count": 62,
   "id": "6a0af453",
   "metadata": {},
   "outputs": [
    {
     "data": {
      "text/plain": [
       "recency         datetime64[ns]\n",
       "frequency                int64\n",
       "monetary               float64\n",
       "review_score           float64\n",
       "dtype: object"
      ]
     },
     "execution_count": 62,
     "metadata": {},
     "output_type": "execute_result"
    }
   ],
   "source": [
    "df.dtypes"
   ]
  },
  {
   "cell_type": "markdown",
   "id": "9d1ae5e1",
   "metadata": {},
   "source": [
    "Pour segmenter les clients, nous utiliserons des algorithmes d'apprentissage non supervisé. Or ces algorithmes ne peuvent pas utiliser le type \"datetime64\\[ns\\]\". Par conséquent, il est nécessaire de préalablement convertir la variable \"recency\" en un format numérique. Nous pouvons notamment pour chaque individu calculer la différence en nombre de jours entre sa date de dernière commande et une date de référence. Cette date de référence sera la date la plus récente de la variable \"recency\", c'est-à-dire la valeur maximale de la variable."
   ]
  },
  {
   "cell_type": "code",
   "execution_count": 63,
   "id": "f6409941",
   "metadata": {},
   "outputs": [
    {
     "data": {
      "text/plain": [
       "Timestamp('2018-08-29 15:00:37')"
      ]
     },
     "execution_count": 63,
     "metadata": {},
     "output_type": "execute_result"
    }
   ],
   "source": [
    "# Date de référence\n",
    "ref_date = df['recency'].max()\n",
    "ref_date"
   ]
  },
  {
   "cell_type": "markdown",
   "id": "ec80f506",
   "metadata": {},
   "source": [
    "La date la plus récente est le 29 août 2018. Pour chaque client, calculons le nombre de jours entre la date de dernière commande et la date de référence :"
   ]
  },
  {
   "cell_type": "code",
   "execution_count": 64,
   "id": "dd73cdb9",
   "metadata": {},
   "outputs": [
    {
     "data": {
      "text/plain": [
       "dtype('int64')"
      ]
     },
     "execution_count": 64,
     "metadata": {},
     "output_type": "execute_result"
    }
   ],
   "source": [
    "# Différence en nombre de jours entre la date de référence et la date de dernière commande\n",
    "df['recency'] = df['recency'].apply(lambda x: (ref_date - x).days)\n",
    "\n",
    "# Affichage du type de la variable\n",
    "df['recency'].dtypes"
   ]
  },
  {
   "cell_type": "markdown",
   "id": "404ce66f",
   "metadata": {},
   "source": [
    "# 4. Traitement des outliers"
   ]
  },
  {
   "cell_type": "code",
   "execution_count": 65,
   "id": "451dcfe3",
   "metadata": {},
   "outputs": [
    {
     "data": {
      "text/html": [
       "<div>\n",
       "<style scoped>\n",
       "    .dataframe tbody tr th:only-of-type {\n",
       "        vertical-align: middle;\n",
       "    }\n",
       "\n",
       "    .dataframe tbody tr th {\n",
       "        vertical-align: top;\n",
       "    }\n",
       "\n",
       "    .dataframe thead th {\n",
       "        text-align: right;\n",
       "    }\n",
       "</style>\n",
       "<table border=\"1\" class=\"dataframe\">\n",
       "  <thead>\n",
       "    <tr style=\"text-align: right;\">\n",
       "      <th></th>\n",
       "      <th>recency</th>\n",
       "      <th>frequency</th>\n",
       "      <th>monetary</th>\n",
       "      <th>review_score</th>\n",
       "    </tr>\n",
       "  </thead>\n",
       "  <tbody>\n",
       "    <tr>\n",
       "      <th>count</th>\n",
       "      <td>92754.00</td>\n",
       "      <td>92754.00</td>\n",
       "      <td>92754.00</td>\n",
       "      <td>92754.00</td>\n",
       "    </tr>\n",
       "    <tr>\n",
       "      <th>mean</th>\n",
       "      <td>236.79</td>\n",
       "      <td>1.09</td>\n",
       "      <td>165.64</td>\n",
       "      <td>4.15</td>\n",
       "    </tr>\n",
       "    <tr>\n",
       "      <th>std</th>\n",
       "      <td>152.59</td>\n",
       "      <td>0.48</td>\n",
       "      <td>226.50</td>\n",
       "      <td>1.28</td>\n",
       "    </tr>\n",
       "    <tr>\n",
       "      <th>min</th>\n",
       "      <td>0.00</td>\n",
       "      <td>1.00</td>\n",
       "      <td>9.59</td>\n",
       "      <td>1.00</td>\n",
       "    </tr>\n",
       "    <tr>\n",
       "      <th>25%</th>\n",
       "      <td>113.00</td>\n",
       "      <td>1.00</td>\n",
       "      <td>63.09</td>\n",
       "      <td>4.00</td>\n",
       "    </tr>\n",
       "    <tr>\n",
       "      <th>50%</th>\n",
       "      <td>218.00</td>\n",
       "      <td>1.00</td>\n",
       "      <td>107.82</td>\n",
       "      <td>5.00</td>\n",
       "    </tr>\n",
       "    <tr>\n",
       "      <th>75%</th>\n",
       "      <td>345.00</td>\n",
       "      <td>1.00</td>\n",
       "      <td>182.91</td>\n",
       "      <td>5.00</td>\n",
       "    </tr>\n",
       "    <tr>\n",
       "      <th>max</th>\n",
       "      <td>694.00</td>\n",
       "      <td>33.00</td>\n",
       "      <td>13664.08</td>\n",
       "      <td>5.00</td>\n",
       "    </tr>\n",
       "  </tbody>\n",
       "</table>\n",
       "</div>"
      ],
      "text/plain": [
       "        recency  frequency  monetary  review_score\n",
       "count  92754.00   92754.00  92754.00      92754.00\n",
       "mean     236.79       1.09    165.64          4.15\n",
       "std      152.59       0.48    226.50          1.28\n",
       "min        0.00       1.00      9.59          1.00\n",
       "25%      113.00       1.00     63.09          4.00\n",
       "50%      218.00       1.00    107.82          5.00\n",
       "75%      345.00       1.00    182.91          5.00\n",
       "max      694.00      33.00  13664.08          5.00"
      ]
     },
     "execution_count": 65,
     "metadata": {},
     "output_type": "execute_result"
    }
   ],
   "source": [
    "df.describe().round(2)"
   ]
  },
  {
   "cell_type": "code",
   "execution_count": 66,
   "id": "a6f86239",
   "metadata": {},
   "outputs": [
    {
     "data": {
      "image/png": "[encoded data removed]",
      "text/plain": [
       "<Figure size 900x600 with 4 Axes>"
      ]
     },
     "metadata": {},
     "output_type": "display_data"
    }
   ],
   "source": [
    "# Taille de la figure\n",
    "fig, axes = plt.subplots(nrows=1, ncols=4, figsize=(9, 6))\n",
    "\n",
    "# Box plots\n",
    "df.boxplot(column='recency', ax=axes[0], showmeans=True)\n",
    "df.boxplot(column='frequency', ax=axes[1], showmeans=True)\n",
    "df.boxplot(column='monetary', ax=axes[2], showmeans=True)\n",
    "df.boxplot(column='review_score', ax=axes[3], showmeans=True)\n",
    "\n",
    "# Ajustement de l'espacement entre les plots\n",
    "fig.tight_layout()\n",
    "\n",
    "# Affichage\n",
    "plt.show()"
   ]
  },
  {
   "cell_type": "markdown",
   "id": "5e363eb4",
   "metadata": {},
   "source": [
    "La variable la plus asymétrique est \"frequency\"."
   ]
  },
  {
   "cell_type": "code",
   "execution_count": 67,
   "id": "5a067ac8",
   "metadata": {},
   "outputs": [
    {
     "data": {
      "text/plain": [
       "count     92754\n",
       "unique       21\n",
       "top           1\n",
       "freq      87264\n",
       "Name: frequency, dtype: int64"
      ]
     },
     "execution_count": 67,
     "metadata": {},
     "output_type": "execute_result"
    }
   ],
   "source": [
    "df['frequency'].astype('object').describe()"
   ]
  },
  {
   "cell_type": "markdown",
   "id": "b6bb59c6",
   "metadata": {},
   "source": [
    "La majorité des clients n'ont effectué qu'une seule commande. Ceux qui ont réalisé plus d'une commande correspondent aux outliers."
   ]
  },
  {
   "cell_type": "code",
   "execution_count": 68,
   "id": "f2f08b1e",
   "metadata": {},
   "outputs": [
    {
     "name": "stdout",
     "output_type": "stream",
     "text": [
      "5.92\n"
     ]
    }
   ],
   "source": [
    "# Nombre total de clients\n",
    "nb_total = df['frequency'].count()\n",
    "\n",
    "# Nombre de clients ayant effectué plus d'une commande\n",
    "nb_multiple_orders = df.loc[df['frequency'] > 1, 'frequency'].count()\n",
    "\n",
    "# Pourcentage de clients ayant effectué plus d'une commande\n",
    "perc_multiple_orders = nb_multiple_orders * 100 / nb_total\n",
    "\n",
    "print(round(perc_multiple_orders, 2))"
   ]
  },
  {
   "cell_type": "markdown",
   "id": "50f41a45",
   "metadata": {},
   "source": [
    "Il n'y a que 5.92 % des clients qui ont réalisé plusieurs commandes. En conséquence, l'amputation d'outliers pour la variable \"frequency\" aura un impact négligeable sur les distances entre les individus par rapport à l'étendue de la variable.\n",
    "\n",
    "Cependant, il semble que les distances entre les individus pour la variable \"monetary\" (qui aussi très asymétrique) puissent être plus importantes en amputant les outliers qui ont une valeur supérieure à 1000. "
   ]
  },
  {
   "cell_type": "code",
   "execution_count": 69,
   "id": "e7add604",
   "metadata": {},
   "outputs": [
    {
     "data": {
      "text/plain": [
       "(91592, 4)"
      ]
     },
     "execution_count": 69,
     "metadata": {},
     "output_type": "execute_result"
    }
   ],
   "source": [
    "df = df[df['monetary'] <= 1000]\n",
    "df.shape"
   ]
  },
  {
   "cell_type": "markdown",
   "id": "78c502f2",
   "metadata": {},
   "source": [
    "# 4. Analyses univariées"
   ]
  },
  {
   "cell_type": "markdown",
   "id": "c1e19531",
   "metadata": {},
   "source": [
    "## 4.1. Récence"
   ]
  },
  {
   "cell_type": "code",
   "execution_count": 70,
   "id": "02d11e61",
   "metadata": {
    "scrolled": false
   },
   "outputs": [
    {
     "data": {
      "text/plain": [
       "count    91592.00\n",
       "mean       236.76\n",
       "std        152.58\n",
       "min          0.00\n",
       "25%        113.00\n",
       "50%        218.00\n",
       "75%        345.00\n",
       "max        694.00\n",
       "Name: recency, dtype: float64"
      ]
     },
     "execution_count": 70,
     "metadata": {},
     "output_type": "execute_result"
    }
   ],
   "source": [
    "df['recency'].describe().round(2)"
   ]
  },
  {
   "cell_type": "code",
   "execution_count": 71,
   "id": "e66a55c9",
   "metadata": {},
   "outputs": [],
   "source": [
    "def plot_hist_box(df, column, bins, density):\n",
    "    \"\"\"\n",
    "    Affiche l'histogramme et le box plot d'une variable.\n",
    "\n",
    "    Positional arguments :\n",
    "    -------------------------------------\n",
    "    df : DataFrame : Le jeu de données.\n",
    "    column : str : Nom de la variable (colonne) à représenter.\n",
    "    bins : int : Nombre de classes à utiliser par l'histogramme.\n",
    "    density : bool : Si True, renvoie une densité de probabilité par classe. Sinon, renvoie l'effectif par classe.\n",
    "    \"\"\"\n",
    "    # Taille de la figure\n",
    "    fig, axes = plt.subplots(nrows=2, ncols=1,\n",
    "                             gridspec_kw={'height_ratios': [4, 1]}, figsize=(10, 8))\n",
    "\n",
    "    # Histogramme\n",
    "    axes[0].hist(x=df[column], bins=bins, density=density)\n",
    "    if density == True:\n",
    "        axes[0].set_ylabel('Densité', fontsize=12)\n",
    "    else:\n",
    "        axes[0].set_ylabel('Effectif', fontsize=12)\n",
    "    axes[0].grid()\n",
    "\n",
    "    # Box plot\n",
    "    axes[1].boxplot(x=df[column], showmeans=True,\n",
    "                    widths=0.5, vert=False)\n",
    "    axes[1].set_yticks([])\n",
    "    axes[1].grid(axis='x')\n",
    "\n",
    "    # Affichage\n",
    "    plt.show()"
   ]
  },
  {
   "cell_type": "code",
   "execution_count": 72,
   "id": "93462133",
   "metadata": {},
   "outputs": [
    {
     "data": {
      "image/png": "[encoded data removed]",
      "text/plain": [
       "<Figure size 1000x800 with 2 Axes>"
      ]
     },
     "metadata": {},
     "output_type": "display_data"
    }
   ],
   "source": [
    "plot_hist_box(df=df, column='recency', bins=50, density=True)"
   ]
  },
  {
   "cell_type": "code",
   "execution_count": 73,
   "id": "2f47eeb6",
   "metadata": {},
   "outputs": [
    {
     "data": {
      "text/plain": [
       "0.45"
      ]
     },
     "execution_count": 73,
     "metadata": {},
     "output_type": "execute_result"
    }
   ],
   "source": [
    "# Skewness empirique\n",
    "df['recency'].skew().round(2)"
   ]
  },
  {
   "cell_type": "markdown",
   "id": "355997e6",
   "metadata": {},
   "source": [
    "La distribution est légèrement asymétrique. Elle est oblique à gauche. Elle présente peu d'outliers. Plus la valeur de \"recency\" (en nombre de jours) est proche de 0, plus la dernière commande du client est récente. On peut voir qu'au moins 75% des dernières commandes de clients se concentrent sur la moitié la plus récente de l'amplitude totale (694 jours) de la variable \"recency\"."
   ]
  },
  {
   "cell_type": "markdown",
   "id": "1757edea",
   "metadata": {},
   "source": [
    "## 4.2. Fréquence"
   ]
  },
  {
   "cell_type": "code",
   "execution_count": 74,
   "id": "ef456dda",
   "metadata": {},
   "outputs": [
    {
     "data": {
      "text/plain": [
       "count    91592.00\n",
       "mean         1.08\n",
       "std          0.48\n",
       "min          1.00\n",
       "25%          1.00\n",
       "50%          1.00\n",
       "75%          1.00\n",
       "max         33.00\n",
       "Name: frequency, dtype: float64"
      ]
     },
     "execution_count": 74,
     "metadata": {},
     "output_type": "execute_result"
    }
   ],
   "source": [
    "df['frequency'].describe().round(2)"
   ]
  },
  {
   "cell_type": "code",
   "execution_count": 75,
   "id": "e6cdfd9d",
   "metadata": {},
   "outputs": [
    {
     "name": "stdout",
     "output_type": "stream",
     "text": [
      "5.83\n"
     ]
    }
   ],
   "source": [
    "# Nombre total de clients\n",
    "nb_total = df['frequency'].count()\n",
    "\n",
    "# Nombre de clients ayant effectué plus d'une commande\n",
    "nb_multiple_orders = df.loc[df['frequency'] > 1, 'frequency'].count()\n",
    "\n",
    "# Pourcentage de clients ayant effectué plus d'une commande\n",
    "perc_multiple_orders = nb_multiple_orders * 100 / nb_total\n",
    "\n",
    "print(round(perc_multiple_orders, 2))"
   ]
  },
  {
   "cell_type": "code",
   "execution_count": 76,
   "id": "fe9a2542",
   "metadata": {},
   "outputs": [
    {
     "data": {
      "image/png": "[encoded data removed]",
      "text/plain": [
       "<Figure size 1000x800 with 2 Axes>"
      ]
     },
     "metadata": {},
     "output_type": "display_data"
    }
   ],
   "source": [
    "# Nombre de classes à représenter\n",
    "bins = df['frequency'].max() - df['frequency'].min()\n",
    "\n",
    "# Figure\n",
    "plot_hist_box(df=df, column='frequency', bins=bins, density=True)"
   ]
  },
  {
   "cell_type": "code",
   "execution_count": 77,
   "id": "ba57fed8",
   "metadata": {},
   "outputs": [
    {
     "data": {
      "text/plain": [
       "18.31"
      ]
     },
     "execution_count": 77,
     "metadata": {},
     "output_type": "execute_result"
    }
   ],
   "source": [
    "# Skewness empirique\n",
    "df['frequency'].skew().round(2)"
   ]
  },
  {
   "cell_type": "markdown",
   "id": "ae40253a",
   "metadata": {},
   "source": [
    "La distribution est très asymétrique. Elle est oblique à gauche. Les valeurs atypiques élevées correspondent aux clients ayant effectué plus d'une commande. Ces clients représentent 5.83 %."
   ]
  },
  {
   "cell_type": "markdown",
   "id": "50ed7326",
   "metadata": {},
   "source": [
    "## 4.3. Montant"
   ]
  },
  {
   "cell_type": "code",
   "execution_count": 78,
   "id": "5f77eeec",
   "metadata": {},
   "outputs": [
    {
     "data": {
      "text/plain": [
       "count    91592.00\n",
       "mean       147.73\n",
       "std        137.21\n",
       "min          9.59\n",
       "25%         62.65\n",
       "50%        106.76\n",
       "75%        178.03\n",
       "max        999.68\n",
       "Name: monetary, dtype: float64"
      ]
     },
     "execution_count": 78,
     "metadata": {},
     "output_type": "execute_result"
    }
   ],
   "source": [
    "df['monetary'].describe().round(2)"
   ]
  },
  {
   "cell_type": "code",
   "execution_count": 79,
   "id": "9c7bdb06",
   "metadata": {},
   "outputs": [
    {
     "data": {
      "image/png": "[encoded data removed]",
      "text/plain": [
       "<Figure size 1000x800 with 2 Axes>"
      ]
     },
     "metadata": {},
     "output_type": "display_data"
    }
   ],
   "source": [
    "plot_hist_box(df=df, column='monetary', bins=50, density=True)"
   ]
  },
  {
   "cell_type": "code",
   "execution_count": 80,
   "id": "9ec0823a",
   "metadata": {},
   "outputs": [
    {
     "data": {
      "text/plain": [
       "2.61"
      ]
     },
     "execution_count": 80,
     "metadata": {},
     "output_type": "execute_result"
    }
   ],
   "source": [
    "# Skewness empirique\n",
    "df['monetary'].skew().round(2)"
   ]
  },
  {
   "cell_type": "markdown",
   "id": "724cfcc9",
   "metadata": {},
   "source": [
    "La distribution est asymétrique. Elle est étalée à droite. Il y a plusieurs valeurs atypiques élevées. On peut constater que 75% des clients n'ont pas dépensé plus 178.03 réals brésiliens."
   ]
  },
  {
   "cell_type": "markdown",
   "id": "83c05805",
   "metadata": {},
   "source": [
    "## 4.4. Satisfaction"
   ]
  },
  {
   "cell_type": "code",
   "execution_count": 81,
   "id": "e9446d01",
   "metadata": {},
   "outputs": [
    {
     "data": {
      "text/plain": [
       "count    91592.00\n",
       "mean         4.16\n",
       "std          1.28\n",
       "min          1.00\n",
       "25%          4.00\n",
       "50%          5.00\n",
       "75%          5.00\n",
       "max          5.00\n",
       "Name: review_score, dtype: float64"
      ]
     },
     "execution_count": 81,
     "metadata": {},
     "output_type": "execute_result"
    }
   ],
   "source": [
    "df['review_score'].describe().round(2)"
   ]
  },
  {
   "cell_type": "code",
   "execution_count": 82,
   "id": "50ba630f",
   "metadata": {},
   "outputs": [
    {
     "data": {
      "image/png": "[encoded data removed]",
      "text/plain": [
       "<Figure size 1000x800 with 2 Axes>"
      ]
     },
     "metadata": {},
     "output_type": "display_data"
    }
   ],
   "source": [
    "plot_hist_box(df=df, column='review_score', bins=50, density=True)"
   ]
  },
  {
   "cell_type": "markdown",
   "id": "445733e6",
   "metadata": {},
   "source": [
    "La distribution est asymétrique. Elle est étalée à gauche. Il y a plusieurs valeurs atypiques inférieures. La plupart des individus se concentrent autour des valeurs 1, 2, 3, 4 et 5. On constate qu'au moins la moitié des clients ont attribué une note de satisfaction de 5, qui est la note maximale."
   ]
  },
  {
   "cell_type": "markdown",
   "id": "c436b816",
   "metadata": {},
   "source": [
    "# 5. Analyse bivariée"
   ]
  },
  {
   "cell_type": "markdown",
   "id": "f2d05879",
   "metadata": {},
   "source": [
    "Matrice des coefficients de corrélation de Pearson entre les variables :"
   ]
  },
  {
   "cell_type": "code",
   "execution_count": 83,
   "id": "1f4b1e4e",
   "metadata": {},
   "outputs": [
    {
     "data": {
      "text/html": [
       "<div>\n",
       "<style scoped>\n",
       "    .dataframe tbody tr th:only-of-type {\n",
       "        vertical-align: middle;\n",
       "    }\n",
       "\n",
       "    .dataframe tbody tr th {\n",
       "        vertical-align: top;\n",
       "    }\n",
       "\n",
       "    .dataframe thead th {\n",
       "        text-align: right;\n",
       "    }\n",
       "</style>\n",
       "<table border=\"1\" class=\"dataframe\">\n",
       "  <thead>\n",
       "    <tr style=\"text-align: right;\">\n",
       "      <th></th>\n",
       "      <th>recency</th>\n",
       "      <th>frequency</th>\n",
       "      <th>monetary</th>\n",
       "      <th>review_score</th>\n",
       "    </tr>\n",
       "  </thead>\n",
       "  <tbody>\n",
       "    <tr>\n",
       "      <th>recency</th>\n",
       "      <td>1.00</td>\n",
       "      <td>0.02</td>\n",
       "      <td>-0.01</td>\n",
       "      <td>-0.01</td>\n",
       "    </tr>\n",
       "    <tr>\n",
       "      <th>frequency</th>\n",
       "      <td>0.02</td>\n",
       "      <td>1.00</td>\n",
       "      <td>0.09</td>\n",
       "      <td>0.00</td>\n",
       "    </tr>\n",
       "    <tr>\n",
       "      <th>monetary</th>\n",
       "      <td>-0.01</td>\n",
       "      <td>0.09</td>\n",
       "      <td>1.00</td>\n",
       "      <td>-0.04</td>\n",
       "    </tr>\n",
       "    <tr>\n",
       "      <th>review_score</th>\n",
       "      <td>-0.01</td>\n",
       "      <td>0.00</td>\n",
       "      <td>-0.04</td>\n",
       "      <td>1.00</td>\n",
       "    </tr>\n",
       "  </tbody>\n",
       "</table>\n",
       "</div>"
      ],
      "text/plain": [
       "              recency  frequency  monetary  review_score\n",
       "recency          1.00       0.02     -0.01         -0.01\n",
       "frequency        0.02       1.00      0.09          0.00\n",
       "monetary        -0.01       0.09      1.00         -0.04\n",
       "review_score    -0.01       0.00     -0.04          1.00"
      ]
     },
     "execution_count": 83,
     "metadata": {},
     "output_type": "execute_result"
    }
   ],
   "source": [
    "df.corr().round(2)"
   ]
  },
  {
   "cell_type": "markdown",
   "id": "b0b7bea4",
   "metadata": {},
   "source": [
    "Carte de chaleur des coefficients de corrélation entre les variables :"
   ]
  },
  {
   "cell_type": "code",
   "execution_count": 84,
   "id": "e239100b",
   "metadata": {},
   "outputs": [
    {
     "data": {
      "image/png": "[encoded data removed]",
      "text/plain": [
       "<Figure size 500x500 with 2 Axes>"
      ]
     },
     "metadata": {},
     "output_type": "display_data"
    }
   ],
   "source": [
    "# Taille de la figure\n",
    "plt.figure(figsize=(5, 5))\n",
    "\n",
    "# Carte de chaleur\n",
    "sns.heatmap(df.corr().round(2),\n",
    "            annot=True,\n",
    "            cmap=\"coolwarm\",\n",
    "            linewidths=1,\n",
    "            linecolor='white',\n",
    "            square=True)\n",
    "\n",
    "# Affichage de la figure\n",
    "plt.show()"
   ]
  },
  {
   "cell_type": "markdown",
   "id": "8ddaca5b",
   "metadata": {},
   "source": [
    "Les coefficients de corrélation entre les variables sont proches de 0. Les variables sont donc indépendantes l'une de l'autre."
   ]
  },
  {
   "cell_type": "markdown",
   "id": "a5daaf0d",
   "metadata": {},
   "source": [
    "# 6. Exportation"
   ]
  },
  {
   "cell_type": "markdown",
   "id": "2976580a",
   "metadata": {},
   "source": [
    "Pour finir, exportons notre tableau au format CSV :"
   ]
  },
  {
   "cell_type": "code",
   "execution_count": 85,
   "id": "8bafce3d",
   "metadata": {},
   "outputs": [],
   "source": [
    "df.to_csv('RFM_data.csv', index=False)"
   ]
  }
 ],
 "metadata": {
  "kernelspec": {
   "display_name": "Projet 5",
   "language": "python",
   "name": "pro5"
  },
  "language_info": {
   "codemirror_mode": {
    "name": "ipython",
    "version": 3
   },
   "file_extension": ".py",
   "mimetype": "text/x-python",
   "name": "python",
   "nbconvert_exporter": "python",
   "pygments_lexer": "ipython3",
   "version": "3.11.3"
  }
 },
 "nbformat": 4,
 "nbformat_minor": 5
}
