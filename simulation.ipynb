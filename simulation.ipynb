{
 "cells": [
  {
   "cell_type": "markdown",
   "id": "1533d3e2",
   "metadata": {},
   "source": [
    "# 1. Préliminaires"
   ]
  },
  {
   "cell_type": "markdown",
   "id": "628ca25e",
   "metadata": {},
   "source": [
    "## 1.1. Importations"
   ]
  },
  {
   "cell_type": "markdown",
   "id": "e4ed72f2",
   "metadata": {},
   "source": [
    "Importons les bibliothèques :"
   ]
  },
  {
   "cell_type": "code",
   "execution_count": 1,
   "id": "d3dadad1",
   "metadata": {},
   "outputs": [],
   "source": [
    "# Data\n",
    "import numpy as np\n",
    "import pandas as pd\n",
    "\n",
    "# Visualisation\n",
    "import matplotlib.pyplot as plt\n",
    "\n",
    "# Scaler\n",
    "from sklearn.preprocessing import MinMaxScaler\n",
    "\n",
    "# K-means\n",
    "from sklearn.cluster import KMeans\n",
    "\n",
    "# Ajusted Rand Index (ARI)\n",
    "from sklearn.metrics.cluster import adjusted_rand_score"
   ]
  },
  {
   "cell_type": "markdown",
   "id": "96bb6345",
   "metadata": {},
   "source": [
    "Chargeons les données :"
   ]
  },
  {
   "cell_type": "code",
   "execution_count": 2,
   "id": "62748e1e",
   "metadata": {},
   "outputs": [],
   "source": [
    "df = pd.read_csv('RFM_data.csv')"
   ]
  },
  {
   "cell_type": "markdown",
   "id": "91c057b3",
   "metadata": {},
   "source": [
    "## 1.2. Présentation des données"
   ]
  },
  {
   "cell_type": "markdown",
   "id": "d474aa1d",
   "metadata": {},
   "source": [
    "Forme du tableau :"
   ]
  },
  {
   "cell_type": "code",
   "execution_count": 3,
   "id": "16a80d8d",
   "metadata": {},
   "outputs": [
    {
     "data": {
      "text/plain": [
       "(91592, 4)"
      ]
     },
     "execution_count": 3,
     "metadata": {},
     "output_type": "execute_result"
    }
   ],
   "source": [
    "df.shape"
   ]
  },
  {
   "cell_type": "markdown",
   "id": "2c2974be",
   "metadata": {},
   "source": [
    "Tête du tableau (5 premières lignes) :"
   ]
  },
  {
   "cell_type": "code",
   "execution_count": 4,
   "id": "1192e0a0",
   "metadata": {},
   "outputs": [
    {
     "data": {
      "text/html": [
       "<div>\n",
       "<style scoped>\n",
       "    .dataframe tbody tr th:only-of-type {\n",
       "        vertical-align: middle;\n",
       "    }\n",
       "\n",
       "    .dataframe tbody tr th {\n",
       "        vertical-align: top;\n",
       "    }\n",
       "\n",
       "    .dataframe thead th {\n",
       "        text-align: right;\n",
       "    }\n",
       "</style>\n",
       "<table border=\"1\" class=\"dataframe\">\n",
       "  <thead>\n",
       "    <tr style=\"text-align: right;\">\n",
       "      <th></th>\n",
       "      <th>recency</th>\n",
       "      <th>frequency</th>\n",
       "      <th>monetary</th>\n",
       "      <th>review_score</th>\n",
       "    </tr>\n",
       "  </thead>\n",
       "  <tbody>\n",
       "    <tr>\n",
       "      <th>0</th>\n",
       "      <td>111</td>\n",
       "      <td>1</td>\n",
       "      <td>141.90</td>\n",
       "      <td>5.0</td>\n",
       "    </tr>\n",
       "    <tr>\n",
       "      <th>1</th>\n",
       "      <td>114</td>\n",
       "      <td>1</td>\n",
       "      <td>27.19</td>\n",
       "      <td>4.0</td>\n",
       "    </tr>\n",
       "    <tr>\n",
       "      <th>2</th>\n",
       "      <td>536</td>\n",
       "      <td>1</td>\n",
       "      <td>86.22</td>\n",
       "      <td>3.0</td>\n",
       "    </tr>\n",
       "    <tr>\n",
       "      <th>3</th>\n",
       "      <td>320</td>\n",
       "      <td>1</td>\n",
       "      <td>43.62</td>\n",
       "      <td>4.0</td>\n",
       "    </tr>\n",
       "    <tr>\n",
       "      <th>4</th>\n",
       "      <td>287</td>\n",
       "      <td>1</td>\n",
       "      <td>196.89</td>\n",
       "      <td>5.0</td>\n",
       "    </tr>\n",
       "  </tbody>\n",
       "</table>\n",
       "</div>"
      ],
      "text/plain": [
       "   recency  frequency  monetary  review_score\n",
       "0      111          1    141.90           5.0\n",
       "1      114          1     27.19           4.0\n",
       "2      536          1     86.22           3.0\n",
       "3      320          1     43.62           4.0\n",
       "4      287          1    196.89           5.0"
      ]
     },
     "execution_count": 4,
     "metadata": {},
     "output_type": "execute_result"
    }
   ],
   "source": [
    "df.head()"
   ]
  },
  {
   "cell_type": "markdown",
   "id": "ae201c2c",
   "metadata": {},
   "source": [
    "Résumé des indicateurs statistiques classiques :"
   ]
  },
  {
   "cell_type": "code",
   "execution_count": 5,
   "id": "fa0dec7f",
   "metadata": {},
   "outputs": [
    {
     "data": {
      "text/html": [
       "<div>\n",
       "<style scoped>\n",
       "    .dataframe tbody tr th:only-of-type {\n",
       "        vertical-align: middle;\n",
       "    }\n",
       "\n",
       "    .dataframe tbody tr th {\n",
       "        vertical-align: top;\n",
       "    }\n",
       "\n",
       "    .dataframe thead th {\n",
       "        text-align: right;\n",
       "    }\n",
       "</style>\n",
       "<table border=\"1\" class=\"dataframe\">\n",
       "  <thead>\n",
       "    <tr style=\"text-align: right;\">\n",
       "      <th></th>\n",
       "      <th>recency</th>\n",
       "      <th>frequency</th>\n",
       "      <th>monetary</th>\n",
       "      <th>review_score</th>\n",
       "    </tr>\n",
       "  </thead>\n",
       "  <tbody>\n",
       "    <tr>\n",
       "      <th>count</th>\n",
       "      <td>91592.00</td>\n",
       "      <td>91592.00</td>\n",
       "      <td>91592.00</td>\n",
       "      <td>91592.00</td>\n",
       "    </tr>\n",
       "    <tr>\n",
       "      <th>mean</th>\n",
       "      <td>236.76</td>\n",
       "      <td>1.08</td>\n",
       "      <td>147.73</td>\n",
       "      <td>4.16</td>\n",
       "    </tr>\n",
       "    <tr>\n",
       "      <th>std</th>\n",
       "      <td>152.58</td>\n",
       "      <td>0.48</td>\n",
       "      <td>137.21</td>\n",
       "      <td>1.28</td>\n",
       "    </tr>\n",
       "    <tr>\n",
       "      <th>min</th>\n",
       "      <td>0.00</td>\n",
       "      <td>1.00</td>\n",
       "      <td>9.59</td>\n",
       "      <td>1.00</td>\n",
       "    </tr>\n",
       "    <tr>\n",
       "      <th>25%</th>\n",
       "      <td>113.00</td>\n",
       "      <td>1.00</td>\n",
       "      <td>62.65</td>\n",
       "      <td>4.00</td>\n",
       "    </tr>\n",
       "    <tr>\n",
       "      <th>50%</th>\n",
       "      <td>218.00</td>\n",
       "      <td>1.00</td>\n",
       "      <td>106.76</td>\n",
       "      <td>5.00</td>\n",
       "    </tr>\n",
       "    <tr>\n",
       "      <th>75%</th>\n",
       "      <td>345.00</td>\n",
       "      <td>1.00</td>\n",
       "      <td>178.03</td>\n",
       "      <td>5.00</td>\n",
       "    </tr>\n",
       "    <tr>\n",
       "      <th>max</th>\n",
       "      <td>694.00</td>\n",
       "      <td>33.00</td>\n",
       "      <td>999.68</td>\n",
       "      <td>5.00</td>\n",
       "    </tr>\n",
       "  </tbody>\n",
       "</table>\n",
       "</div>"
      ],
      "text/plain": [
       "        recency  frequency  monetary  review_score\n",
       "count  91592.00   91592.00  91592.00      91592.00\n",
       "mean     236.76       1.08    147.73          4.16\n",
       "std      152.58       0.48    137.21          1.28\n",
       "min        0.00       1.00      9.59          1.00\n",
       "25%      113.00       1.00     62.65          4.00\n",
       "50%      218.00       1.00    106.76          5.00\n",
       "75%      345.00       1.00    178.03          5.00\n",
       "max      694.00      33.00    999.68          5.00"
      ]
     },
     "execution_count": 5,
     "metadata": {},
     "output_type": "execute_result"
    }
   ],
   "source": [
    "df.describe().round(2)"
   ]
  },
  {
   "cell_type": "markdown",
   "id": "56bc51a8",
   "metadata": {},
   "source": [
    "# 2. Simulation"
   ]
  },
  {
   "cell_type": "markdown",
   "id": "0abea890",
   "metadata": {},
   "source": [
    "Précédemment, nous avons vu que parmi tous les modèles testés, la segmentation RFM par k-means était la plus performante. Par conséquent, nous amputons la colonne \"review_score\" pour ne garder que les dimensions RFM (c'est-à-dire les variables \"recency\", \"frequency\" et \"monetary\") :"
   ]
  },
  {
   "cell_type": "code",
   "execution_count": 6,
   "id": "32c3c47c",
   "metadata": {},
   "outputs": [],
   "source": [
    "df.drop(labels='review_score', axis=1, inplace=True)"
   ]
  },
  {
   "cell_type": "markdown",
   "id": "1190ab29",
   "metadata": {},
   "source": [
    "Maintenant, nous allons définir un partitionnement de référence. Pour cela, nous allons instancier un k-means avec le nombre de clusters k égal à 4. Puis nous entraînerons ce k-means sur tout notre jeu de données (préalablement standardisé par l'algorithme MinMax)."
   ]
  },
  {
   "cell_type": "code",
   "execution_count": 7,
   "id": "4e4eb4c6",
   "metadata": {},
   "outputs": [
    {
     "data": {
      "text/plain": [
       "count     91592\n",
       "unique        4\n",
       "top           0\n",
       "freq      33213\n",
       "dtype: int64"
      ]
     },
     "execution_count": 7,
     "metadata": {},
     "output_type": "execute_result"
    }
   ],
   "source": [
    "# Scaler\n",
    "scaler = MinMaxScaler()\n",
    "\n",
    "# Jeu de données entier\n",
    "df_scaled = scaler.fit_transform(df)  # Standardisation\n",
    "df_scaled = pd.DataFrame(df_scaled, columns=df.columns)\n",
    "\n",
    "# k-means\n",
    "kmeans = KMeans(n_clusters=4, init='k-means++', n_init='auto', random_state=1)\n",
    "\n",
    "# Entraînement du k-means sur tout le jeu de données\n",
    "kmeans.fit(df_scaled)\n",
    "\n",
    "# Clusters à partir de tout le jeu de données\n",
    "clusters_true = kmeans.labels_\n",
    "clusters_true = pd.Series(clusters_true, index=df.index)\n",
    "\n",
    "# Résumé d'indicateurs statistiques sur les clusters\n",
    "clusters_true.astype('object').describe()"
   ]
  },
  {
   "cell_type": "markdown",
   "id": "386ec01c",
   "metadata": {},
   "source": [
    "Comme nous pouvons le constater le partitionnement a bien été effectué sur la totalité des clients et nous avons 4 clusters différents.\n",
    "\n",
    "Désormais, nous allons définir une période de temps en semaines pour l'étude de la stabilité des segments. Ensuite, cette période sera convertie en jours car il s'agit de l'unité de la récence (\"recency\"). En effet, c'est à partir de cette variable que nous allons pouvoir définir des clients initiaux et des nouveaux clients pour notre simulation."
   ]
  },
  {
   "cell_type": "code",
   "execution_count": 8,
   "id": "fa1d8266",
   "metadata": {},
   "outputs": [
    {
     "name": "stdout",
     "output_type": "stream",
     "text": [
      "[0 1 2 3 4 5 6 7 8 9]\n",
      "[ 0  7 14 21 28 35 42 49 56 63]\n"
     ]
    }
   ],
   "source": [
    "# Période de temps en semaines\n",
    "weeks_arr = np.arange(0, 10, 1)\n",
    "print(weeks_arr)\n",
    "\n",
    "# Période de temps en jours\n",
    "days_arr = weeks_arr*7\n",
    "print(days_arr)"
   ]
  },
  {
   "cell_type": "markdown",
   "id": "eebc86ce",
   "metadata": {},
   "source": [
    "La valeur 0 représente la date la plus récente dans le jeu de données. La coupure qui sera réalisée pour chaque jour contenu dans \"days_arr\" donnera :\n",
    "- Les clients ayant effectué leur dernière commande avant le jour en question. Il s'agit des clients initiaux\n",
    "- Les clients ayant effectué leur dernière commande le jour en question ou après. Il s'agit des nouveaux clients.\n",
    "\n",
    "Nous pouvons dès à présent démarrer notre simulation. Pour chaque semaine, nous allons calculer l'indice de Rand ajusté (ARI) entre les clusters de référence et ceux issus des clients initiaux et des nouveaux clients.  "
   ]
  },
  {
   "cell_type": "code",
   "execution_count": 9,
   "id": "3be07237",
   "metadata": {},
   "outputs": [
    {
     "data": {
      "text/html": [
       "<div>\n",
       "<style scoped>\n",
       "    .dataframe tbody tr th:only-of-type {\n",
       "        vertical-align: middle;\n",
       "    }\n",
       "\n",
       "    .dataframe tbody tr th {\n",
       "        vertical-align: top;\n",
       "    }\n",
       "\n",
       "    .dataframe thead th {\n",
       "        text-align: right;\n",
       "    }\n",
       "</style>\n",
       "<table border=\"1\" class=\"dataframe\">\n",
       "  <thead>\n",
       "    <tr style=\"text-align: right;\">\n",
       "      <th></th>\n",
       "      <th>ARI</th>\n",
       "    </tr>\n",
       "    <tr>\n",
       "      <th>Week</th>\n",
       "      <th></th>\n",
       "    </tr>\n",
       "  </thead>\n",
       "  <tbody>\n",
       "    <tr>\n",
       "      <th>0</th>\n",
       "      <td>0.99</td>\n",
       "    </tr>\n",
       "    <tr>\n",
       "      <th>1</th>\n",
       "      <td>0.99</td>\n",
       "    </tr>\n",
       "    <tr>\n",
       "      <th>2</th>\n",
       "      <td>0.93</td>\n",
       "    </tr>\n",
       "    <tr>\n",
       "      <th>3</th>\n",
       "      <td>0.91</td>\n",
       "    </tr>\n",
       "    <tr>\n",
       "      <th>4</th>\n",
       "      <td>0.81</td>\n",
       "    </tr>\n",
       "    <tr>\n",
       "      <th>5</th>\n",
       "      <td>0.78</td>\n",
       "    </tr>\n",
       "    <tr>\n",
       "      <th>6</th>\n",
       "      <td>0.73</td>\n",
       "    </tr>\n",
       "    <tr>\n",
       "      <th>7</th>\n",
       "      <td>0.73</td>\n",
       "    </tr>\n",
       "    <tr>\n",
       "      <th>8</th>\n",
       "      <td>0.70</td>\n",
       "    </tr>\n",
       "    <tr>\n",
       "      <th>9</th>\n",
       "      <td>0.67</td>\n",
       "    </tr>\n",
       "  </tbody>\n",
       "</table>\n",
       "</div>"
      ],
      "text/plain": [
       "       ARI\n",
       "Week      \n",
       "0     0.99\n",
       "1     0.99\n",
       "2     0.93\n",
       "3     0.91\n",
       "4     0.81\n",
       "5     0.78\n",
       "6     0.73\n",
       "7     0.73\n",
       "8     0.70\n",
       "9     0.67"
      ]
     },
     "execution_count": 9,
     "metadata": {},
     "output_type": "execute_result"
    }
   ],
   "source": [
    "# Liste vide pour enregistrer les scores ARI\n",
    "ari_list = []\n",
    "\n",
    "# Pour chaque jour se rapprochant de la date la plus récente\n",
    "for day in days_arr[::-1]:\n",
    "    # Données représentant les clients initiaux\n",
    "    df_ini = df[df['recency'] > day]  # Filtrage\n",
    "    df_ini_scaled = scaler.fit_transform(df_ini)  # Standardisation\n",
    "    df_ini_scaled = pd.DataFrame(df_ini_scaled, columns=df_ini.columns)\n",
    "\n",
    "    # Entraînement du k-means à partir des clients initiaux\n",
    "    kmeans.fit(df_ini_scaled)\n",
    "\n",
    "    # Clusters à partir des clients initiaux\n",
    "    clusters_ini = kmeans.labels_\n",
    "    clusters_ini = pd.Series(clusters_ini, index=df_ini.index)\n",
    "\n",
    "    # Données représentant les nouveaux clients\n",
    "    df_new = df[df['recency'] <= day]  # Filtrage\n",
    "    df_new_scaled = scaler.transform(df_new)  # Standardisation\n",
    "    df_new_scaled = pd.DataFrame(df_new_scaled, columns=df_new.columns)\n",
    "\n",
    "    # Clusters à partir des nouveaux clients\n",
    "    clusters_new = kmeans.predict(df_new_scaled)\n",
    "    clusters_new = pd.Series(clusters_new, index=df_new.index)\n",
    "\n",
    "    # Clusters à partir des clients initiaux et nouveaux\n",
    "    clusters = pd.concat([clusters_ini, clusters_new], axis=0)\n",
    "    clusters = clusters.reindex(index=clusters_true.index)\n",
    "\n",
    "    # Calcul et enregistrement de l'ARI\n",
    "    ari = adjusted_rand_score(labels_true=clusters_true, labels_pred=clusters)\n",
    "    ari_list.append(ari)\n",
    "\n",
    "# Création d'un DataFrame à partir des ARI obtenus\n",
    "ari_df = pd.DataFrame({'ARI': ari_list[::-1]})\n",
    "ari_df.index.name = 'Week'\n",
    "ari_df.round(2)"
   ]
  },
  {
   "cell_type": "markdown",
   "id": "37035117",
   "metadata": {},
   "source": [
    "Représentons graphiquement ces résultats :"
   ]
  },
  {
   "cell_type": "code",
   "execution_count": 10,
   "id": "ad52ba9f",
   "metadata": {},
   "outputs": [
    {
     "data": {
      "image/png": "[encoded data removed]",
      "text/plain": [
       "<Figure size 900x700 with 1 Axes>"
      ]
     },
     "metadata": {},
     "output_type": "display_data"
    }
   ],
   "source": [
    "# Taille de la figure\n",
    "plt.figure(figsize=(9, 7))\n",
    "\n",
    "# Line plot\n",
    "plt.plot(ari_df.index, ari_df, marker='o')\n",
    "\n",
    "# Labels, grille et affichage\n",
    "plt.ylabel('Adjusted Rand Index')\n",
    "plt.xlabel('Week')\n",
    "plt.xticks(weeks_arr)\n",
    "plt.grid()\n",
    "plt.show()"
   ]
  },
  {
   "cell_type": "markdown",
   "id": "6cce088e",
   "metadata": {},
   "source": [
    "Nous pouvons voir qu'après chaque semaine, l'ARI diminue. Un ARI égal à 1 indique que les clusters comparés sont les mêmes. Nous allons considérer que les segments ne sont plus stables lorsque l'ARI est inférieur à 0.8 (80%). Par conséquent, le délai de maintenance sera d'un peu plus de 4 semaines, c'est-à-dire environ 1 mois."
   ]
  }
 ],
 "metadata": {
  "kernelspec": {
   "display_name": "Projet 5",
   "language": "python",
   "name": "pro5"
  },
  "language_info": {
   "codemirror_mode": {
    "name": "ipython",
    "version": 3
   },
   "file_extension": ".py",
   "mimetype": "text/x-python",
   "name": "python",
   "nbconvert_exporter": "python",
   "pygments_lexer": "ipython3",
   "version": "3.11.3"
  }
 },
 "nbformat": 4,
 "nbformat_minor": 5
}
